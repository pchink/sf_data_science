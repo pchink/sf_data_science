{
 "cells": [
  {
   "cell_type": "markdown",
   "metadata": {},
   "source": [
    "## PROJECT. Исследование поведения пользователей"
   ]
  },
  {
   "cell_type": "markdown",
   "metadata": {},
   "source": [
    "### ЗАДАНИЕ\n",
    "необходимо проверить:\n",
    "* есть ли зависимость между выбранным уровнем сложности и вероятностью оплаты;\n",
    "* различается ли временной промежуток между регистрацией и оплатой у групп пользователей с разным уровнем сложности."
   ]
  },
  {
   "cell_type": "code",
   "execution_count": 213,
   "metadata": {},
   "outputs": [],
   "source": [
    "import pandas as pd"
   ]
  },
  {
   "cell_type": "code",
   "execution_count": 214,
   "metadata": {},
   "outputs": [],
   "source": [
    "events_df = pd.read_csv('data/7_4_Events.csv', sep=',')\n",
    "purchase_df = pd.read_csv('data/purchase.csv', sep=',')\n"
   ]
  },
  {
   "cell_type": "code",
   "execution_count": 215,
   "metadata": {},
   "outputs": [
    {
     "name": "stderr",
     "output_type": "stream",
     "text": [
      "D:\\anaconda3\\lib\\site-packages\\pandas\\core\\generic.py:5494: SettingWithCopyWarning: \n",
      "A value is trying to be set on a copy of a slice from a DataFrame.\n",
      "Try using .loc[row_indexer,col_indexer] = value instead\n",
      "\n",
      "See the caveats in the documentation: https://pandas.pydata.org/pandas-docs/stable/user_guide/indexing.html#returning-a-view-versus-a-copy\n",
      "  self[name] = value\n"
     ]
    }
   ],
   "source": [
    "event_2018 = (events_df.start_time>='2018-01-01') & (events_df.start_time<'2019-01-01') & (events_df.event_type=='registration')\n",
    "registered = events_df[event_2018]['user_id'].to_list()  # список пользователей, зарег. в 2018\n",
    "events = events_df[events_df.user_id.isin(registered)]\n",
    "events.start_time = pd.to_datetime(events.start_time, format='%Y-%m-%dT%H:%M:%S')"
   ]
  },
  {
   "cell_type": "code",
   "execution_count": 216,
   "metadata": {},
   "outputs": [
    {
     "name": "stdout",
     "output_type": "stream",
     "text": [
      "<class 'pandas.core.frame.DataFrame'>\n",
      "Int64Index: 1600 entries, 1171 to 2778\n",
      "Data columns (total 4 columns):\n",
      " #   Column          Non-Null Count  Dtype         \n",
      "---  ------          --------------  -----         \n",
      " 0   id              1600 non-null   int64         \n",
      " 1   user_id         1600 non-null   int64         \n",
      " 2   event_datetime  1600 non-null   datetime64[ns]\n",
      " 3   amount          1600 non-null   int64         \n",
      "dtypes: datetime64[ns](1), int64(3)\n",
      "memory usage: 62.5 KB\n"
     ]
    }
   ],
   "source": [
    "purchase = purchase_df[purchase_df.user_id.isin(registered)]\n",
    "purchase.event_datetime = pd.to_datetime(purchase.event_datetime, format='%Y-%m-%dT%H:%M:%S')\n",
    "purchase.info()"
   ]
  },
  {
   "cell_type": "code",
   "execution_count": 217,
   "metadata": {},
   "outputs": [],
   "source": [
    "#purchase['event_type'] = 'purchase'"
   ]
  },
  {
   "cell_type": "code",
   "execution_count": 218,
   "metadata": {},
   "outputs": [],
   "source": [
    "events = events.rename(columns={\"id\": \"event_id\"})\n",
    "purchase = purchase.rename(columns={\"id\": \"purchase_id\"})"
   ]
  },
  {
   "cell_type": "code",
   "execution_count": 219,
   "metadata": {},
   "outputs": [
    {
     "data": {
      "text/html": [
       "<div>\n",
       "<style scoped>\n",
       "    .dataframe tbody tr th:only-of-type {\n",
       "        vertical-align: middle;\n",
       "    }\n",
       "\n",
       "    .dataframe tbody tr th {\n",
       "        vertical-align: top;\n",
       "    }\n",
       "\n",
       "    .dataframe thead th {\n",
       "        text-align: right;\n",
       "    }\n",
       "</style>\n",
       "<table border=\"1\" class=\"dataframe\">\n",
       "  <thead>\n",
       "    <tr style=\"text-align: right;\">\n",
       "      <th></th>\n",
       "      <th>event_id</th>\n",
       "      <th>event_type</th>\n",
       "      <th>selected_level</th>\n",
       "      <th>start_time</th>\n",
       "      <th>tutorial_id</th>\n",
       "      <th>user_id</th>\n",
       "      <th>purchase_id</th>\n",
       "      <th>event_datetime</th>\n",
       "      <th>amount</th>\n",
       "    </tr>\n",
       "  </thead>\n",
       "  <tbody>\n",
       "    <tr>\n",
       "      <th>51405</th>\n",
       "      <td>80308.0</td>\n",
       "      <td>registration</td>\n",
       "      <td>NaN</td>\n",
       "      <td>2018-01-01 03:48:40</td>\n",
       "      <td>NaN</td>\n",
       "      <td>27832</td>\n",
       "      <td>NaN</td>\n",
       "      <td>NaT</td>\n",
       "      <td>NaN</td>\n",
       "    </tr>\n",
       "    <tr>\n",
       "      <th>51406</th>\n",
       "      <td>80309.0</td>\n",
       "      <td>registration</td>\n",
       "      <td>NaN</td>\n",
       "      <td>2018-01-01 04:07:25</td>\n",
       "      <td>NaN</td>\n",
       "      <td>27833</td>\n",
       "      <td>NaN</td>\n",
       "      <td>NaT</td>\n",
       "      <td>NaN</td>\n",
       "    </tr>\n",
       "    <tr>\n",
       "      <th>51407</th>\n",
       "      <td>80310.0</td>\n",
       "      <td>registration</td>\n",
       "      <td>NaN</td>\n",
       "      <td>2018-01-01 08:35:10</td>\n",
       "      <td>NaN</td>\n",
       "      <td>27834</td>\n",
       "      <td>NaN</td>\n",
       "      <td>NaT</td>\n",
       "      <td>NaN</td>\n",
       "    </tr>\n",
       "    <tr>\n",
       "      <th>51408</th>\n",
       "      <td>80311.0</td>\n",
       "      <td>registration</td>\n",
       "      <td>NaN</td>\n",
       "      <td>2018-01-01 11:54:47</td>\n",
       "      <td>NaN</td>\n",
       "      <td>27835</td>\n",
       "      <td>NaN</td>\n",
       "      <td>NaT</td>\n",
       "      <td>NaN</td>\n",
       "    </tr>\n",
       "    <tr>\n",
       "      <th>51409</th>\n",
       "      <td>80312.0</td>\n",
       "      <td>registration</td>\n",
       "      <td>NaN</td>\n",
       "      <td>2018-01-01 13:28:07</td>\n",
       "      <td>NaN</td>\n",
       "      <td>27836</td>\n",
       "      <td>NaN</td>\n",
       "      <td>NaT</td>\n",
       "      <td>NaN</td>\n",
       "    </tr>\n",
       "    <tr>\n",
       "      <th>51410</th>\n",
       "      <td>80313.0</td>\n",
       "      <td>registration</td>\n",
       "      <td>NaN</td>\n",
       "      <td>2018-01-01 14:08:40</td>\n",
       "      <td>NaN</td>\n",
       "      <td>27837</td>\n",
       "      <td>NaN</td>\n",
       "      <td>NaT</td>\n",
       "      <td>NaN</td>\n",
       "    </tr>\n",
       "    <tr>\n",
       "      <th>51411</th>\n",
       "      <td>80314.0</td>\n",
       "      <td>registration</td>\n",
       "      <td>NaN</td>\n",
       "      <td>2018-01-01 14:42:58</td>\n",
       "      <td>NaN</td>\n",
       "      <td>27838</td>\n",
       "      <td>NaN</td>\n",
       "      <td>NaT</td>\n",
       "      <td>NaN</td>\n",
       "    </tr>\n",
       "    <tr>\n",
       "      <th>51412</th>\n",
       "      <td>80315.0</td>\n",
       "      <td>tutorial_start</td>\n",
       "      <td>NaN</td>\n",
       "      <td>2018-01-01 14:54:40</td>\n",
       "      <td>31505.0</td>\n",
       "      <td>27836</td>\n",
       "      <td>NaN</td>\n",
       "      <td>NaT</td>\n",
       "      <td>NaN</td>\n",
       "    </tr>\n",
       "    <tr>\n",
       "      <th>51413</th>\n",
       "      <td>80316.0</td>\n",
       "      <td>tutorial_start</td>\n",
       "      <td>NaN</td>\n",
       "      <td>2018-01-01 15:00:51</td>\n",
       "      <td>31506.0</td>\n",
       "      <td>27835</td>\n",
       "      <td>NaN</td>\n",
       "      <td>NaT</td>\n",
       "      <td>NaN</td>\n",
       "    </tr>\n",
       "    <tr>\n",
       "      <th>51414</th>\n",
       "      <td>80317.0</td>\n",
       "      <td>tutorial_finish</td>\n",
       "      <td>NaN</td>\n",
       "      <td>2018-01-01 15:06:15</td>\n",
       "      <td>31506.0</td>\n",
       "      <td>27835</td>\n",
       "      <td>NaN</td>\n",
       "      <td>NaT</td>\n",
       "      <td>NaN</td>\n",
       "    </tr>\n",
       "  </tbody>\n",
       "</table>\n",
       "</div>"
      ],
      "text/plain": [
       "       event_id       event_type selected_level          start_time  \\\n",
       "51405   80308.0     registration            NaN 2018-01-01 03:48:40   \n",
       "51406   80309.0     registration            NaN 2018-01-01 04:07:25   \n",
       "51407   80310.0     registration            NaN 2018-01-01 08:35:10   \n",
       "51408   80311.0     registration            NaN 2018-01-01 11:54:47   \n",
       "51409   80312.0     registration            NaN 2018-01-01 13:28:07   \n",
       "51410   80313.0     registration            NaN 2018-01-01 14:08:40   \n",
       "51411   80314.0     registration            NaN 2018-01-01 14:42:58   \n",
       "51412   80315.0   tutorial_start            NaN 2018-01-01 14:54:40   \n",
       "51413   80316.0   tutorial_start            NaN 2018-01-01 15:00:51   \n",
       "51414   80317.0  tutorial_finish            NaN 2018-01-01 15:06:15   \n",
       "\n",
       "       tutorial_id  user_id  purchase_id event_datetime  amount  \n",
       "51405          NaN    27832          NaN            NaT     NaN  \n",
       "51406          NaN    27833          NaN            NaT     NaN  \n",
       "51407          NaN    27834          NaN            NaT     NaN  \n",
       "51408          NaN    27835          NaN            NaT     NaN  \n",
       "51409          NaN    27836          NaN            NaT     NaN  \n",
       "51410          NaN    27837          NaN            NaT     NaN  \n",
       "51411          NaN    27838          NaN            NaT     NaN  \n",
       "51412      31505.0    27836          NaN            NaT     NaN  \n",
       "51413      31506.0    27835          NaN            NaT     NaN  \n",
       "51414      31506.0    27835          NaN            NaT     NaN  "
      ]
     },
     "execution_count": 219,
     "metadata": {},
     "output_type": "execute_result"
    }
   ],
   "source": [
    "total_events_df = pd.concat([events,purchase],sort=False)\n",
    "total_events_df.head(10)"
   ]
  },
  {
   "cell_type": "code",
   "execution_count": 220,
   "metadata": {},
   "outputs": [],
   "source": [
    "total_events_df = total_events_df.reset_index(drop=True).sort_values('start_time')"
   ]
  },
  {
   "cell_type": "code",
   "execution_count": 221,
   "metadata": {},
   "outputs": [
    {
     "data": {
      "text/plain": [
       "array(['registration', 'tutorial_start', 'tutorial_finish',\n",
       "       'level_choice', 'pack_choice'], dtype=object)"
      ]
     },
     "execution_count": 221,
     "metadata": {},
     "output_type": "execute_result"
    }
   ],
   "source": [
    "# посмотрим уникальные значения в датафрейме events, в event_type\n",
    "events['event_type'].unique()"
   ]
  },
  {
   "cell_type": "code",
   "execution_count": 222,
   "metadata": {},
   "outputs": [
    {
     "data": {
      "text/plain": [
       "array([nan, 'medium', 'hard', 'easy'], dtype=object)"
      ]
     },
     "execution_count": 222,
     "metadata": {},
     "output_type": "execute_result"
    }
   ],
   "source": [
    "# посмотрим какие уровни сложности имеются. Уникальные значения\n",
    "events['selected_level'].unique()"
   ]
  },
  {
   "cell_type": "markdown",
   "metadata": {},
   "source": [
    "Посмотрим сколько всего пользователей выбирают уровень сложности:\n",
    "* easy\n",
    "* medium\n",
    "* hard"
   ]
  },
  {
   "cell_type": "code",
   "execution_count": 223,
   "metadata": {},
   "outputs": [
    {
     "data": {
      "text/plain": [
       "2448"
      ]
     },
     "execution_count": 223,
     "metadata": {},
     "output_type": "execute_result"
    }
   ],
   "source": [
    "events[events['selected_level'] == 'easy']['user_id'].nunique()"
   ]
  },
  {
   "cell_type": "markdown",
   "metadata": {},
   "source": [
    "### Проверим гипотезы"
   ]
  },
  {
   "cell_type": "markdown",
   "metadata": {},
   "source": [
    "Найдем пользователей, которые оплатили и выбрали определенный уровень сложности"
   ]
  },
  {
   "cell_type": "markdown",
   "metadata": {},
   "source": [
    "определим процент пользователей, которые выбрали определенный уровень сложности и дошли до оплаты, и запишем его в переменную percent_level_choice_users."
   ]
  },
  {
   "cell_type": "code",
   "execution_count": 224,
   "metadata": {},
   "outputs": [
    {
     "data": {
      "text/plain": [
       "2448"
      ]
     },
     "execution_count": 224,
     "metadata": {},
     "output_type": "execute_result"
    }
   ],
   "source": [
    "level_choice_easy_user_count = events[events['selected_level'] == 'easy']['user_id'].nunique()\n",
    "level_choice_easy_user_count"
   ]
  },
  {
   "cell_type": "code",
   "execution_count": 236,
   "metadata": {},
   "outputs": [
    {
     "name": "stdout",
     "output_type": "stream",
     "text": [
      "2448\n"
     ]
    }
   ],
   "source": [
    "level_choice_easy_user_count_1 = total_events_df[\n",
    "    total_events_df[\"selected_level\"] == \"easy\"\n",
    "][\"user_id\"].unique()\n",
    "print(len(level_choice_easy_user_count_1))"
   ]
  },
  {
   "cell_type": "code",
   "execution_count": 237,
   "metadata": {},
   "outputs": [],
   "source": [
    "level_choice_easy_user_count = purchase_df[purchase_df[\"user_id\"].isin(level_choice_easy_user_count_1)]\n",
    "level_choice_easy_user_count['user_id'].nunique() #  посчитаем, сколько пользователей в этом датафрейме."
   ]
  },
  {
   "cell_type": "code",
   "execution_count": 248,
   "metadata": {},
   "outputs": [
    {
     "name": "stdout",
     "output_type": "stream",
     "text": [
      "Процент пользователей, которые оплатили вопросы (от числа пользователей, которые выбрали уровень easy): 11.81%\n"
     ]
    }
   ],
   "source": [
    "paying_users_count = purchase['user_id'].nunique()\n",
    "\n",
    "percent_of_paying_users = len(level_choice_easy_user_count) / paying_users_count\n",
    "print(\n",
    "    \"Процент пользователей, которые оплатили вопросы (от числа пользователей, которые выбрали уровень easy): {:.2%}\".format(\n",
    "        percent_of_paying_users\n",
    "    )\n",
    ")\n"
   ]
  },
  {
   "cell_type": "code",
   "execution_count": 249,
   "metadata": {},
   "outputs": [
    {
     "data": {
      "text/plain": [
       "4645"
      ]
     },
     "execution_count": 249,
     "metadata": {},
     "output_type": "execute_result"
    }
   ],
   "source": [
    "level_choice_medium_user_count = events[events['selected_level'] == 'medium']['user_id'].nunique()\n",
    "level_choice_medium_user_count"
   ]
  },
  {
   "cell_type": "code",
   "execution_count": 250,
   "metadata": {},
   "outputs": [
    {
     "name": "stdout",
     "output_type": "stream",
     "text": [
      "Процент пользователей, которые оплатили вопросы (от числа пользователей, которые выбрали уровень medium): 34.45%\n"
     ]
    }
   ],
   "source": [
    "percent_of_paying_users =  paying_users_count / level_choice_medium_user_count\n",
    "print(\n",
    "    \"Процент пользователей, которые оплатили вопросы (от числа пользователей, которые выбрали уровень medium): {:.2%}\".format(\n",
    "        percent_of_paying_users\n",
    "    )\n",
    ")\n"
   ]
  },
  {
   "cell_type": "code",
   "execution_count": 251,
   "metadata": {},
   "outputs": [],
   "source": [
    "level_choice_hard_user_count = events[events['selected_level'] == 'hard']['user_id'].nunique()"
   ]
  },
  {
   "cell_type": "code",
   "execution_count": 252,
   "metadata": {},
   "outputs": [
    {
     "name": "stdout",
     "output_type": "stream",
     "text": [
      "Процент пользователей, которые оплатили вопросы (от числа пользователей, которые выбрали уровень hard): 78.06%\n"
     ]
    }
   ],
   "source": [
    "percent_of_paying_users = level_choice_hard_user_count / paying_users_count\n",
    "print(\n",
    "    \"Процент пользователей, которые оплатили вопросы (от числа пользователей, которые выбрали уровень hard): {:.2%}\".format(\n",
    "        percent_of_paying_users\n",
    "    )\n",
    ")"
   ]
  }
 ],
 "metadata": {
  "interpreter": {
   "hash": "7b4b4feff2f24a0f0a34464dbe537a36fda679851528fb8735cb41fa49dffb2d"
  },
  "kernelspec": {
   "display_name": "Python 3.8.8 64-bit ('base': conda)",
   "language": "python",
   "name": "python3"
  },
  "language_info": {
   "codemirror_mode": {
    "name": "ipython",
    "version": 3
   },
   "file_extension": ".py",
   "mimetype": "text/x-python",
   "name": "python",
   "nbconvert_exporter": "python",
   "pygments_lexer": "ipython3",
   "version": "3.8.8"
  },
  "orig_nbformat": 4
 },
 "nbformat": 4,
 "nbformat_minor": 2
}
