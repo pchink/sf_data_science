{
 "cells": [
  {
   "cell_type": "markdown",
   "metadata": {},
   "source": [
    "## PROJECT. Исследование поведения пользователей"
   ]
  },
  {
   "cell_type": "markdown",
   "metadata": {},
   "source": [
    "### ЗАДАНИЕ\n",
    "необходимо проверить:\n",
    "1. есть ли зависимость между выбранным уровнем сложности и вероятностью оплаты;\n",
    "2. различается ли временной промежуток между регистрацией и оплатой у групп пользователей с разным уровнем сложности."
   ]
  },
  {
   "cell_type": "markdown",
   "metadata": {},
   "source": [
    " Проверку будем проводить на основе данных пользователей, которые зарегистрировались в 2018 году (с 1 января по 31 декабря 2018 года включительно)."
   ]
  },
  {
   "cell_type": "code",
   "execution_count": 431,
   "metadata": {},
   "outputs": [],
   "source": [
    "# Импортируем библиотеки, которые нам потребуются\n",
    "import pandas as pd"
   ]
  },
  {
   "cell_type": "code",
   "execution_count": 432,
   "metadata": {},
   "outputs": [],
   "source": [
    "# Наши данные хранятся в файлах 7_4_Events.csv и purchase.csv,которые были предварительно выгружены из БД.\n",
    "events_df = pd.read_csv('data/7_4_Events.csv', sep=',')\n",
    "purchase_df = pd.read_csv('data/purchase.csv', sep=',')"
   ]
  },
  {
   "cell_type": "code",
   "execution_count": 433,
   "metadata": {},
   "outputs": [
    {
     "name": "stderr",
     "output_type": "stream",
     "text": [
      "C:\\Users\\Pavel\\AppData\\Local\\Programs\\Python\\Python310\\lib\\site-packages\\pandas\\core\\generic.py:5516: SettingWithCopyWarning: \n",
      "A value is trying to be set on a copy of a slice from a DataFrame.\n",
      "Try using .loc[row_indexer,col_indexer] = value instead\n",
      "\n",
      "See the caveats in the documentation: https://pandas.pydata.org/pandas-docs/stable/user_guide/indexing.html#returning-a-view-versus-a-copy\n",
      "  self[name] = value\n"
     ]
    }
   ],
   "source": [
    "# Выделим пользователей, зарегистрированных в 2018\n",
    "event_2018 = (events_df.start_time>='2018-01-01') & (events_df.start_time<'2019-01-01') & (events_df.event_type=='registration')\n",
    "#Сформируем список пользователей, зарегистриванных в 2018\n",
    "registered = events_df[event_2018]['user_id'].to_list()\n",
    "events = events_df[events_df.user_id.isin(registered)]\n",
    "events.start_time = pd.to_datetime(events.start_time, format='%Y-%m-%dT%H:%M:%S')"
   ]
  },
  {
   "cell_type": "code",
   "execution_count": 434,
   "metadata": {},
   "outputs": [
    {
     "name": "stderr",
     "output_type": "stream",
     "text": [
      "C:\\Users\\Pavel\\AppData\\Local\\Programs\\Python\\Python310\\lib\\site-packages\\pandas\\core\\generic.py:5516: SettingWithCopyWarning: \n",
      "A value is trying to be set on a copy of a slice from a DataFrame.\n",
      "Try using .loc[row_indexer,col_indexer] = value instead\n",
      "\n",
      "See the caveats in the documentation: https://pandas.pydata.org/pandas-docs/stable/user_guide/indexing.html#returning-a-view-versus-a-copy\n",
      "  self[name] = value\n"
     ]
    }
   ],
   "source": [
    "purchase = purchase_df[purchase_df.user_id.isin(registered)]\n",
    "purchase.event_datetime = pd.to_datetime(purchase.event_datetime, format='%Y-%m-%dT%H:%M:%S')"
   ]
  },
  {
   "cell_type": "markdown",
   "metadata": {},
   "source": [
    "# АНАЛИЗ УНИКАЛЬНЫХ ПОЛЬЗОВАТЕЛЬСКИХ ПУТЕЙ"
   ]
  },
  {
   "cell_type": "markdown",
   "metadata": {},
   "source": [
    "объединим датафрейм с событиями с датафреймом по оплатам. Это позволит анализировать все эти события в рамках одной структуры данных.\n",
    "\n",
    "Добавим в датафрейм purchase столбец event_type, который будет содержать одно значение purchase. Это нужно, чтобы в объединённом датафрейме однозначно выделить события оплаты."
   ]
  },
  {
   "cell_type": "code",
   "execution_count": 435,
   "metadata": {},
   "outputs": [
    {
     "name": "stderr",
     "output_type": "stream",
     "text": [
      "C:\\Users\\Pavel\\AppData\\Local\\Temp/ipykernel_12332/1758393730.py:1: SettingWithCopyWarning: \n",
      "A value is trying to be set on a copy of a slice from a DataFrame.\n",
      "Try using .loc[row_indexer,col_indexer] = value instead\n",
      "\n",
      "See the caveats in the documentation: https://pandas.pydata.org/pandas-docs/stable/user_guide/indexing.html#returning-a-view-versus-a-copy\n",
      "  purchase['event_type'] = 'purchase'\n"
     ]
    },
    {
     "data": {
      "text/html": [
       "<div>\n",
       "<style scoped>\n",
       "    .dataframe tbody tr th:only-of-type {\n",
       "        vertical-align: middle;\n",
       "    }\n",
       "\n",
       "    .dataframe tbody tr th {\n",
       "        vertical-align: top;\n",
       "    }\n",
       "\n",
       "    .dataframe thead th {\n",
       "        text-align: right;\n",
       "    }\n",
       "</style>\n",
       "<table border=\"1\" class=\"dataframe\">\n",
       "  <thead>\n",
       "    <tr style=\"text-align: right;\">\n",
       "      <th></th>\n",
       "      <th>id</th>\n",
       "      <th>user_id</th>\n",
       "      <th>event_datetime</th>\n",
       "      <th>amount</th>\n",
       "      <th>event_type</th>\n",
       "    </tr>\n",
       "  </thead>\n",
       "  <tbody>\n",
       "    <tr>\n",
       "      <th>1171</th>\n",
       "      <td>16845</td>\n",
       "      <td>27845</td>\n",
       "      <td>2018-01-03 18:53:43</td>\n",
       "      <td>100</td>\n",
       "      <td>purchase</td>\n",
       "    </tr>\n",
       "    <tr>\n",
       "      <th>1172</th>\n",
       "      <td>16846</td>\n",
       "      <td>27865</td>\n",
       "      <td>2018-01-04 14:46:10</td>\n",
       "      <td>250</td>\n",
       "      <td>purchase</td>\n",
       "    </tr>\n",
       "    <tr>\n",
       "      <th>1174</th>\n",
       "      <td>16848</td>\n",
       "      <td>27911</td>\n",
       "      <td>2018-01-07 08:19:12</td>\n",
       "      <td>50</td>\n",
       "      <td>purchase</td>\n",
       "    </tr>\n",
       "    <tr>\n",
       "      <th>1175</th>\n",
       "      <td>16849</td>\n",
       "      <td>27910</td>\n",
       "      <td>2018-01-07 12:11:34</td>\n",
       "      <td>100</td>\n",
       "      <td>purchase</td>\n",
       "    </tr>\n",
       "    <tr>\n",
       "      <th>1176</th>\n",
       "      <td>16850</td>\n",
       "      <td>27940</td>\n",
       "      <td>2018-01-07 13:16:41</td>\n",
       "      <td>200</td>\n",
       "      <td>purchase</td>\n",
       "    </tr>\n",
       "  </tbody>\n",
       "</table>\n",
       "</div>"
      ],
      "text/plain": [
       "         id  user_id      event_datetime  amount event_type\n",
       "1171  16845    27845 2018-01-03 18:53:43     100   purchase\n",
       "1172  16846    27865 2018-01-04 14:46:10     250   purchase\n",
       "1174  16848    27911 2018-01-07 08:19:12      50   purchase\n",
       "1175  16849    27910 2018-01-07 12:11:34     100   purchase\n",
       "1176  16850    27940 2018-01-07 13:16:41     200   purchase"
      ]
     },
     "execution_count": 435,
     "metadata": {},
     "output_type": "execute_result"
    }
   ],
   "source": [
    "purchase['event_type'] = 'purchase'\n",
    "purchase.head(5)"
   ]
  },
  {
   "cell_type": "markdown",
   "metadata": {},
   "source": [
    "У нас есть одинаковые столбцы _id_ в двух датафреймах, но смысл их несколько отличается, так как столбец _id_ в _events_ указывает на идентификатор события, а столбец _id_ в _purchase_ указывает на идентификатор оплаты. \n",
    "Поэтому применим функцию rename(), чтобы переименовать столбцы в датафреймах."
   ]
  },
  {
   "cell_type": "code",
   "execution_count": 436,
   "metadata": {},
   "outputs": [],
   "source": [
    "events = events.rename(columns={\"id\": \"event_id\"})\n",
    "purchase = purchase.rename(columns={\"id\": \"purchase_id\"})"
   ]
  },
  {
   "cell_type": "markdown",
   "metadata": {},
   "source": [
    "Объединим датафреймы events и purchase с помощью функции pd.concat() и запишем объединённый датафрейм в переменную total_events_df."
   ]
  },
  {
   "cell_type": "code",
   "execution_count": 437,
   "metadata": {},
   "outputs": [],
   "source": [
    "total_events_df = pd.concat([events,purchase],sort=False)"
   ]
  },
  {
   "cell_type": "markdown",
   "metadata": {},
   "source": [
    "Сбросим индексы объединённого датафрейма (т.к. после объединения они дублировались и несут мало смысла) с помощью метода _reset_index()_ и отсортируем все события по возрастанию времени с помощью _sort_values()_."
   ]
  },
  {
   "cell_type": "code",
   "execution_count": 438,
   "metadata": {},
   "outputs": [],
   "source": [
    "total_events_df = total_events_df.reset_index(drop=True).sort_values('start_time')"
   ]
  },
  {
   "cell_type": "code",
   "execution_count": 439,
   "metadata": {},
   "outputs": [
    {
     "data": {
      "text/html": [
       "<div>\n",
       "<style scoped>\n",
       "    .dataframe tbody tr th:only-of-type {\n",
       "        vertical-align: middle;\n",
       "    }\n",
       "\n",
       "    .dataframe tbody tr th {\n",
       "        vertical-align: top;\n",
       "    }\n",
       "\n",
       "    .dataframe thead th {\n",
       "        text-align: right;\n",
       "    }\n",
       "</style>\n",
       "<table border=\"1\" class=\"dataframe\">\n",
       "  <thead>\n",
       "    <tr style=\"text-align: right;\">\n",
       "      <th></th>\n",
       "      <th>event_id</th>\n",
       "      <th>event_type</th>\n",
       "      <th>selected_level</th>\n",
       "      <th>start_time</th>\n",
       "      <th>tutorial_id</th>\n",
       "      <th>user_id</th>\n",
       "      <th>purchase_id</th>\n",
       "      <th>event_datetime</th>\n",
       "      <th>amount</th>\n",
       "    </tr>\n",
       "  </thead>\n",
       "  <tbody>\n",
       "    <tr>\n",
       "      <th>0</th>\n",
       "      <td>80308.0</td>\n",
       "      <td>registration</td>\n",
       "      <td>NaN</td>\n",
       "      <td>2018-01-01 03:48:40</td>\n",
       "      <td>NaN</td>\n",
       "      <td>27832</td>\n",
       "      <td>NaN</td>\n",
       "      <td>NaT</td>\n",
       "      <td>NaN</td>\n",
       "    </tr>\n",
       "    <tr>\n",
       "      <th>1</th>\n",
       "      <td>80309.0</td>\n",
       "      <td>registration</td>\n",
       "      <td>NaN</td>\n",
       "      <td>2018-01-01 04:07:25</td>\n",
       "      <td>NaN</td>\n",
       "      <td>27833</td>\n",
       "      <td>NaN</td>\n",
       "      <td>NaT</td>\n",
       "      <td>NaN</td>\n",
       "    </tr>\n",
       "    <tr>\n",
       "      <th>2</th>\n",
       "      <td>80310.0</td>\n",
       "      <td>registration</td>\n",
       "      <td>NaN</td>\n",
       "      <td>2018-01-01 08:35:10</td>\n",
       "      <td>NaN</td>\n",
       "      <td>27834</td>\n",
       "      <td>NaN</td>\n",
       "      <td>NaT</td>\n",
       "      <td>NaN</td>\n",
       "    </tr>\n",
       "    <tr>\n",
       "      <th>3</th>\n",
       "      <td>80311.0</td>\n",
       "      <td>registration</td>\n",
       "      <td>NaN</td>\n",
       "      <td>2018-01-01 11:54:47</td>\n",
       "      <td>NaN</td>\n",
       "      <td>27835</td>\n",
       "      <td>NaN</td>\n",
       "      <td>NaT</td>\n",
       "      <td>NaN</td>\n",
       "    </tr>\n",
       "    <tr>\n",
       "      <th>4</th>\n",
       "      <td>80312.0</td>\n",
       "      <td>registration</td>\n",
       "      <td>NaN</td>\n",
       "      <td>2018-01-01 13:28:07</td>\n",
       "      <td>NaN</td>\n",
       "      <td>27836</td>\n",
       "      <td>NaN</td>\n",
       "      <td>NaT</td>\n",
       "      <td>NaN</td>\n",
       "    </tr>\n",
       "    <tr>\n",
       "      <th>5</th>\n",
       "      <td>80313.0</td>\n",
       "      <td>registration</td>\n",
       "      <td>NaN</td>\n",
       "      <td>2018-01-01 14:08:40</td>\n",
       "      <td>NaN</td>\n",
       "      <td>27837</td>\n",
       "      <td>NaN</td>\n",
       "      <td>NaT</td>\n",
       "      <td>NaN</td>\n",
       "    </tr>\n",
       "    <tr>\n",
       "      <th>6</th>\n",
       "      <td>80314.0</td>\n",
       "      <td>registration</td>\n",
       "      <td>NaN</td>\n",
       "      <td>2018-01-01 14:42:58</td>\n",
       "      <td>NaN</td>\n",
       "      <td>27838</td>\n",
       "      <td>NaN</td>\n",
       "      <td>NaT</td>\n",
       "      <td>NaN</td>\n",
       "    </tr>\n",
       "    <tr>\n",
       "      <th>7</th>\n",
       "      <td>80315.0</td>\n",
       "      <td>tutorial_start</td>\n",
       "      <td>NaN</td>\n",
       "      <td>2018-01-01 14:54:40</td>\n",
       "      <td>31505.0</td>\n",
       "      <td>27836</td>\n",
       "      <td>NaN</td>\n",
       "      <td>NaT</td>\n",
       "      <td>NaN</td>\n",
       "    </tr>\n",
       "    <tr>\n",
       "      <th>8</th>\n",
       "      <td>80316.0</td>\n",
       "      <td>tutorial_start</td>\n",
       "      <td>NaN</td>\n",
       "      <td>2018-01-01 15:00:51</td>\n",
       "      <td>31506.0</td>\n",
       "      <td>27835</td>\n",
       "      <td>NaN</td>\n",
       "      <td>NaT</td>\n",
       "      <td>NaN</td>\n",
       "    </tr>\n",
       "    <tr>\n",
       "      <th>9</th>\n",
       "      <td>80317.0</td>\n",
       "      <td>tutorial_finish</td>\n",
       "      <td>NaN</td>\n",
       "      <td>2018-01-01 15:06:15</td>\n",
       "      <td>31506.0</td>\n",
       "      <td>27835</td>\n",
       "      <td>NaN</td>\n",
       "      <td>NaT</td>\n",
       "      <td>NaN</td>\n",
       "    </tr>\n",
       "  </tbody>\n",
       "</table>\n",
       "</div>"
      ],
      "text/plain": [
       "   event_id       event_type selected_level          start_time  tutorial_id  \\\n",
       "0   80308.0     registration            NaN 2018-01-01 03:48:40          NaN   \n",
       "1   80309.0     registration            NaN 2018-01-01 04:07:25          NaN   \n",
       "2   80310.0     registration            NaN 2018-01-01 08:35:10          NaN   \n",
       "3   80311.0     registration            NaN 2018-01-01 11:54:47          NaN   \n",
       "4   80312.0     registration            NaN 2018-01-01 13:28:07          NaN   \n",
       "5   80313.0     registration            NaN 2018-01-01 14:08:40          NaN   \n",
       "6   80314.0     registration            NaN 2018-01-01 14:42:58          NaN   \n",
       "7   80315.0   tutorial_start            NaN 2018-01-01 14:54:40      31505.0   \n",
       "8   80316.0   tutorial_start            NaN 2018-01-01 15:00:51      31506.0   \n",
       "9   80317.0  tutorial_finish            NaN 2018-01-01 15:06:15      31506.0   \n",
       "\n",
       "   user_id  purchase_id event_datetime  amount  \n",
       "0    27832          NaN            NaT     NaN  \n",
       "1    27833          NaN            NaT     NaN  \n",
       "2    27834          NaN            NaT     NaN  \n",
       "3    27835          NaN            NaT     NaN  \n",
       "4    27836          NaN            NaT     NaN  \n",
       "5    27837          NaN            NaT     NaN  \n",
       "6    27838          NaN            NaT     NaN  \n",
       "7    27836          NaN            NaT     NaN  \n",
       "8    27835          NaN            NaT     NaN  \n",
       "9    27835          NaN            NaT     NaN  "
      ]
     },
     "execution_count": 439,
     "metadata": {},
     "output_type": "execute_result"
    }
   ],
   "source": [
    "# Выведем первые 10 строк объединенного датафрейма.\n",
    "total_events_df.head(10)"
   ]
  },
  {
   "cell_type": "markdown",
   "metadata": {},
   "source": [
    "### Воссоздаём последовательность событий"
   ]
  },
  {
   "cell_type": "markdown",
   "metadata": {},
   "source": [
    "Теперь для каждого пользователя создаем список, который будет содержать во временной последовательности все события, совершаемые данным пользователем.\n",
    "\n",
    "Для этого воспользуемся методом groupby по столбцу _event_type_ и применим агрегирующую функцию _apply(list)_. Таким образом мы сгруппируем строки по пользователю, а затем объединим в списки содержимое столбца _event_type_ по каждому пользователю. Запишем результат в датафрейм _user_path_df_."
   ]
  },
  {
   "cell_type": "code",
   "execution_count": 440,
   "metadata": {},
   "outputs": [
    {
     "data": {
      "text/html": [
       "<div>\n",
       "<style scoped>\n",
       "    .dataframe tbody tr th:only-of-type {\n",
       "        vertical-align: middle;\n",
       "    }\n",
       "\n",
       "    .dataframe tbody tr th {\n",
       "        vertical-align: top;\n",
       "    }\n",
       "\n",
       "    .dataframe thead th {\n",
       "        text-align: right;\n",
       "    }\n",
       "</style>\n",
       "<table border=\"1\" class=\"dataframe\">\n",
       "  <thead>\n",
       "    <tr style=\"text-align: right;\">\n",
       "      <th></th>\n",
       "      <th>user_id</th>\n",
       "      <th>event_type</th>\n",
       "    </tr>\n",
       "  </thead>\n",
       "  <tbody>\n",
       "    <tr>\n",
       "      <th>0</th>\n",
       "      <td>27832</td>\n",
       "      <td>[registration]</td>\n",
       "    </tr>\n",
       "    <tr>\n",
       "      <th>1</th>\n",
       "      <td>27833</td>\n",
       "      <td>[registration, tutorial_start, tutorial_finish]</td>\n",
       "    </tr>\n",
       "    <tr>\n",
       "      <th>2</th>\n",
       "      <td>27834</td>\n",
       "      <td>[registration, tutorial_start, tutorial_finish]</td>\n",
       "    </tr>\n",
       "    <tr>\n",
       "      <th>3</th>\n",
       "      <td>27835</td>\n",
       "      <td>[registration, tutorial_start, tutorial_finish...</td>\n",
       "    </tr>\n",
       "    <tr>\n",
       "      <th>4</th>\n",
       "      <td>27836</td>\n",
       "      <td>[registration, tutorial_start, tutorial_start,...</td>\n",
       "    </tr>\n",
       "    <tr>\n",
       "      <th>5</th>\n",
       "      <td>27837</td>\n",
       "      <td>[registration]</td>\n",
       "    </tr>\n",
       "    <tr>\n",
       "      <th>6</th>\n",
       "      <td>27838</td>\n",
       "      <td>[registration]</td>\n",
       "    </tr>\n",
       "    <tr>\n",
       "      <th>7</th>\n",
       "      <td>27839</td>\n",
       "      <td>[registration, tutorial_start, tutorial_finish...</td>\n",
       "    </tr>\n",
       "    <tr>\n",
       "      <th>8</th>\n",
       "      <td>27840</td>\n",
       "      <td>[registration, tutorial_start, level_choice]</td>\n",
       "    </tr>\n",
       "    <tr>\n",
       "      <th>9</th>\n",
       "      <td>27841</td>\n",
       "      <td>[registration, tutorial_start, tutorial_finish]</td>\n",
       "    </tr>\n",
       "  </tbody>\n",
       "</table>\n",
       "</div>"
      ],
      "text/plain": [
       "   user_id                                         event_type\n",
       "0    27832                                     [registration]\n",
       "1    27833    [registration, tutorial_start, tutorial_finish]\n",
       "2    27834    [registration, tutorial_start, tutorial_finish]\n",
       "3    27835  [registration, tutorial_start, tutorial_finish...\n",
       "4    27836  [registration, tutorial_start, tutorial_start,...\n",
       "5    27837                                     [registration]\n",
       "6    27838                                     [registration]\n",
       "7    27839  [registration, tutorial_start, tutorial_finish...\n",
       "8    27840       [registration, tutorial_start, level_choice]\n",
       "9    27841    [registration, tutorial_start, tutorial_finish]"
      ]
     },
     "execution_count": 440,
     "metadata": {},
     "output_type": "execute_result"
    }
   ],
   "source": [
    "user_path_df = (\n",
    "    total_events_df.groupby([\"user_id\"])[\"event_type\"].apply(list).reset_index()\n",
    ")\n",
    "user_path_df.head(10)"
   ]
  },
  {
   "cell_type": "markdown",
   "metadata": {},
   "source": [
    "## Проверка аналитической гипотезы"
   ]
  },
  {
   "cell_type": "markdown",
   "metadata": {},
   "source": [
    "Определим, существует ли различие в частоте и средней величине оплат между тремя группами пользователей:\n",
    "\n",
    "* пользователи, которые выбрали уровень сложнсти _easy_;\n",
    "* пользователи, которые выбрали уровень сложнсти _medium_;\n",
    "* пользователи, которые выбрали уровень сложнсти _hard_."
   ]
  },
  {
   "cell_type": "markdown",
   "metadata": {},
   "source": [
    "Посмотрим какие уровни сложности имеются в датафрейме events, в event_type"
   ]
  },
  {
   "cell_type": "code",
   "execution_count": 441,
   "metadata": {},
   "outputs": [
    {
     "data": {
      "text/plain": [
       "array([nan, 'medium', 'hard', 'easy'], dtype=object)"
      ]
     },
     "execution_count": 441,
     "metadata": {},
     "output_type": "execute_result"
    }
   ],
   "source": [
    "events['selected_level'].unique()"
   ]
  },
  {
   "cell_type": "code",
   "execution_count": 442,
   "metadata": {},
   "outputs": [
    {
     "data": {
      "text/plain": [
       "1600"
      ]
     },
     "metadata": {},
     "output_type": "display_data"
    }
   ],
   "source": [
    "paying_users_count = purchase['user_id'].nunique()\n",
    "display(paying_users_count)\n",
    "#общее число пользователей с событием \"purchase\" "
   ]
  },
  {
   "cell_type": "markdown",
   "metadata": {},
   "source": [
    "### Выделим группы пользователей"
   ]
  },
  {
   "cell_type": "code",
   "execution_count": 443,
   "metadata": {},
   "outputs": [
    {
     "name": "stdout",
     "output_type": "stream",
     "text": [
      "2448\n"
     ]
    }
   ],
   "source": [
    "# Выделим группу пользователей, которые выбрали уровень сложности \"easy\" и определим их количество. \n",
    "# Запишем группу пользователей в переменную \"easy_level_users\", а в переменную \"easy_level_users_count\" - их количество.\n",
    "\n",
    "print(events[events['selected_level'] == 'easy']['user_id'].nunique())\n",
    "easy_level_users = events[events['selected_level'] == 'easy']['user_id']\n",
    "easy_level_users_count = events[events['selected_level'] == 'easy']['user_id'].nunique()"
   ]
  },
  {
   "cell_type": "code",
   "execution_count": 444,
   "metadata": {},
   "outputs": [
    {
     "name": "stdout",
     "output_type": "stream",
     "text": [
      "4645\n"
     ]
    }
   ],
   "source": [
    "# Выделим группу пользователей, которые выбрали уровень сложности \"medium\" и определим их количество. \n",
    "# Запишем группу пользователей в переменную \"medium_level_users\", а в переменную \"medium_level_users_count\" - их количество.\n",
    "\n",
    "print(events[events['selected_level'] == 'medium']['user_id'].nunique())\n",
    "medium_level_users = events[events['selected_level'] == 'medium']['user_id']\n",
    "medium_level_users_count = events[events['selected_level'] == 'medium']['user_id'].nunique()"
   ]
  },
  {
   "cell_type": "code",
   "execution_count": 445,
   "metadata": {},
   "outputs": [
    {
     "name": "stdout",
     "output_type": "stream",
     "text": [
      "1249\n"
     ]
    }
   ],
   "source": [
    "# Выделим группу пользователей, которые выбрали уровень сложности \"hard\" и определим их количество. \n",
    "# Запишем группу пользователей в переменную \"hard_level_users\", а в переменную \"hard_level_users_count\" - их количество.\n",
    "\n",
    "print(events[events['selected_level'] == 'hard']['user_id'].nunique())\n",
    "hard_level_users = events[events['selected_level'] == 'hard']['user_id']\n",
    "hard_level_users_count = events[events['selected_level'] == 'hard']['user_id'].nunique()"
   ]
  },
  {
   "cell_type": "code",
   "execution_count": 446,
   "metadata": {},
   "outputs": [
    {
     "name": "stdout",
     "output_type": "stream",
     "text": [
      "189\n"
     ]
    }
   ],
   "source": [
    "# Выделим группу пользователей, которые оплатили тренировки и выбрали уровень сложности \"easy\" \n",
    "# Запишем группу пользователей в отдельный датафрейм \"purchase_df_easy\", а в переменную \"purchase_easy_users_count\" - их количество.\n",
    "\n",
    "purchase_df_easy = purchase[purchase['user_id'].isin(easy_level_users)]\n",
    "print(purchase_df_easy.user_id.nunique())\n",
    "purchase_easy_users_count = purchase_df_easy.user_id.nunique()"
   ]
  },
  {
   "cell_type": "code",
   "execution_count": 447,
   "metadata": {},
   "outputs": [
    {
     "name": "stdout",
     "output_type": "stream",
     "text": [
      "969\n"
     ]
    }
   ],
   "source": [
    "# Выделим группу пользователей, которые оплатили тренировки и выбрали уровень сложности \"medium\" \n",
    "# Запишем группу пользователей в отдельный датафрейм \"purchase_df_medium\", а в переменную \"purchase_medium_users_count\" - их количество.\n",
    "\n",
    "purchase_df_medium = purchase[purchase['user_id'].isin(medium_level_users)]\n",
    "print(purchase_df_medium.user_id.nunique())\n",
    "purchase_medium_users_count = purchase_df_medium.user_id.nunique()"
   ]
  },
  {
   "cell_type": "code",
   "execution_count": 448,
   "metadata": {},
   "outputs": [
    {
     "name": "stdout",
     "output_type": "stream",
     "text": [
      "442\n"
     ]
    }
   ],
   "source": [
    "# Выделим группу пользователей, которые оплатили тренировки и выбрали уровень сложности \"hard\" \n",
    "# Запишем группу пользователей в отдельный датафрейм \"purchase_df_hard\", а в переменную \"purchase_hard_users_count\" - их количество.\n",
    "\n",
    "purchase_df_hard = purchase[purchase['user_id'].isin(hard_level_users)]\n",
    "print(purchase_df_hard.user_id.nunique())\n",
    "purchase_hard_users_count = purchase_df_hard.user_id.nunique()"
   ]
  },
  {
   "cell_type": "markdown",
   "metadata": {},
   "source": [
    "### Рассчитаем для каждой группы пользователей процент оплат"
   ]
  },
  {
   "cell_type": "code",
   "execution_count": 449,
   "metadata": {},
   "outputs": [
    {
     "name": "stdout",
     "output_type": "stream",
     "text": [
      "Процент пользователей, которые оплатили тренировки (от числа пользователей, который выбрали уровень тренировок \"easy\"): 7.72%\n"
     ]
    }
   ],
   "source": [
    "# Оценим процент пользователей, выбравших уровень сложности \"easy\" от числа пользователей, которые купили тренировки. \n",
    "# Запишем результат в переменную percent_easy_level:\n",
    "\n",
    "percent_easy_level = purchase_easy_users_count / easy_level_users_count\n",
    "print('Процент пользователей, которые оплатили тренировки (от числа пользователей, который выбрали уровень тренировок \"easy\"): {:.2%}'.format(percent_easy_level))"
   ]
  },
  {
   "cell_type": "code",
   "execution_count": 450,
   "metadata": {},
   "outputs": [
    {
     "name": "stdout",
     "output_type": "stream",
     "text": [
      "Процент пользователей, которые оплатили тренировки (от числа пользователей, который выбрали уровень тренировок \"medium\"): 20.86%\n"
     ]
    }
   ],
   "source": [
    "# Оценим процент пользователей, выбравших уровень сложности \"medium\" от числа пользователей, которые купили тренировки. \n",
    "# Запишем результат в переменную percent_medium_level:\n",
    "\n",
    "percent_medium_level = purchase_medium_users_count / medium_level_users_count\n",
    "print('Процент пользователей, которые оплатили тренировки (от числа пользователей, который выбрали уровень тренировок \"medium\"): {:.2%}'.format(percent_medium_level))"
   ]
  },
  {
   "cell_type": "code",
   "execution_count": 451,
   "metadata": {},
   "outputs": [
    {
     "name": "stdout",
     "output_type": "stream",
     "text": [
      "Процент пользователей, которые оплатили тренировки (от числа пользователей, который выбрали уровень тренировок \"hard\"):35.39%\n"
     ]
    }
   ],
   "source": [
    "# Оценим процент пользователей, выбравших уровень сложности \"hard\" от числа пользователей, которые купили тренировки. \n",
    "# Запишем результат в переменную percent_hard_level:\n",
    "\n",
    "percent_hard_level = purchase_hard_users_count / hard_level_users_count\n",
    "print('Процент пользователей, которые оплатили тренировки (от числа пользователей, который выбрали уровень тренировок \"hard\"):{:.2%}'.format(percent_hard_level))"
   ]
  },
  {
   "cell_type": "markdown",
   "metadata": {},
   "source": [
    "## АНАЛИЗ ВРЕМЕННЫХ ПРОМЕЖУТКОВ"
   ]
  },
  {
   "cell_type": "markdown",
   "metadata": {},
   "source": [
    "### Для каждой группы создадим датафреймы"
   ]
  },
  {
   "cell_type": "code",
   "execution_count": 452,
   "metadata": {},
   "outputs": [
    {
     "data": {
      "text/plain": [
       "1.0"
      ]
     },
     "execution_count": 452,
     "metadata": {},
     "output_type": "execute_result"
    }
   ],
   "source": [
    "# Создадим датафрейм \"easy_level_choice_df\", в котором будут только пользователи, выбравшие уровень сложности \"easy\". \n",
    "# Оставим в новом датафрейме только необходимые нам столбцы 'user_id', 'start_time', а также переименуем \n",
    "# столбец 'start_time' в столбец 'easy_choice_time'. \n",
    "# В заключении проверим, что на каждого уникального пользователя приходится только одно событие выбора уровня сложности. \n",
    "\n",
    "easy_level_choice_df = total_events_df[total_events_df['selected_level'] == 'easy']\n",
    "easy_level_choice_df = easy_level_choice_df[['user_id', 'start_time']].rename(columns={'start_time':'easy_choice_time'})\n",
    "easy_level_choice_df['user_id'].value_counts().mean()"
   ]
  },
  {
   "cell_type": "code",
   "execution_count": 453,
   "metadata": {},
   "outputs": [
    {
     "data": {
      "text/html": [
       "<div>\n",
       "<style scoped>\n",
       "    .dataframe tbody tr th:only-of-type {\n",
       "        vertical-align: middle;\n",
       "    }\n",
       "\n",
       "    .dataframe tbody tr th {\n",
       "        vertical-align: top;\n",
       "    }\n",
       "\n",
       "    .dataframe thead th {\n",
       "        text-align: right;\n",
       "    }\n",
       "</style>\n",
       "<table border=\"1\" class=\"dataframe\">\n",
       "  <thead>\n",
       "    <tr style=\"text-align: right;\">\n",
       "      <th></th>\n",
       "      <th>user_id</th>\n",
       "      <th>easy_pay_time</th>\n",
       "    </tr>\n",
       "  </thead>\n",
       "  <tbody>\n",
       "    <tr>\n",
       "      <th>1180</th>\n",
       "      <td>27884</td>\n",
       "      <td>2018-01-08 19:37:34</td>\n",
       "    </tr>\n",
       "    <tr>\n",
       "      <th>1191</th>\n",
       "      <td>28182</td>\n",
       "      <td>2018-01-12 02:46:01</td>\n",
       "    </tr>\n",
       "    <tr>\n",
       "      <th>1193</th>\n",
       "      <td>28207</td>\n",
       "      <td>2018-01-12 21:00:24</td>\n",
       "    </tr>\n",
       "    <tr>\n",
       "      <th>1199</th>\n",
       "      <td>28090</td>\n",
       "      <td>2018-01-15 23:42:55</td>\n",
       "    </tr>\n",
       "    <tr>\n",
       "      <th>1206</th>\n",
       "      <td>28378</td>\n",
       "      <td>2018-01-18 02:11:41</td>\n",
       "    </tr>\n",
       "    <tr>\n",
       "      <th>1210</th>\n",
       "      <td>28247</td>\n",
       "      <td>2018-01-18 18:32:05</td>\n",
       "    </tr>\n",
       "    <tr>\n",
       "      <th>1218</th>\n",
       "      <td>28254</td>\n",
       "      <td>2018-01-19 22:08:40</td>\n",
       "    </tr>\n",
       "    <tr>\n",
       "      <th>1221</th>\n",
       "      <td>28528</td>\n",
       "      <td>2018-01-20 10:23:41</td>\n",
       "    </tr>\n",
       "    <tr>\n",
       "      <th>1243</th>\n",
       "      <td>28546</td>\n",
       "      <td>2018-01-23 22:55:27</td>\n",
       "    </tr>\n",
       "    <tr>\n",
       "      <th>1264</th>\n",
       "      <td>28984</td>\n",
       "      <td>2018-01-26 21:33:53</td>\n",
       "    </tr>\n",
       "  </tbody>\n",
       "</table>\n",
       "</div>"
      ],
      "text/plain": [
       "      user_id       easy_pay_time\n",
       "1180    27884 2018-01-08 19:37:34\n",
       "1191    28182 2018-01-12 02:46:01\n",
       "1193    28207 2018-01-12 21:00:24\n",
       "1199    28090 2018-01-15 23:42:55\n",
       "1206    28378 2018-01-18 02:11:41\n",
       "1210    28247 2018-01-18 18:32:05\n",
       "1218    28254 2018-01-19 22:08:40\n",
       "1221    28528 2018-01-20 10:23:41\n",
       "1243    28546 2018-01-23 22:55:27\n",
       "1264    28984 2018-01-26 21:33:53"
      ]
     },
     "execution_count": 453,
     "metadata": {},
     "output_type": "execute_result"
    }
   ],
   "source": [
    "# Подкорректируем ранее созданный датафрейм \"purchase_df_easy\": оставим в датафрейме только необходимые нам \n",
    "# столбцы 'user_id', 'event_datetime ', а также переименуем столбец 'event_datetime' в столбец 'easy_pay_time'.\n",
    "# В заключении проверим, что на каждого уникального пользователя приходится только одно событие оплаты.\n",
    "\n",
    "purchase_df_easy = purchase_df_easy[['user_id','event_datetime']].rename(columns={'event_datetime':'easy_pay_time'})\n",
    "purchase_df_easy['user_id'].value_counts().mean()\n",
    "purchase_df_easy.head(10)"
   ]
  },
  {
   "cell_type": "code",
   "execution_count": 454,
   "metadata": {},
   "outputs": [
    {
     "data": {
      "text/plain": [
       "1.0"
      ]
     },
     "execution_count": 454,
     "metadata": {},
     "output_type": "execute_result"
    }
   ],
   "source": [
    "# Создадим датафрейм \"medium_level_choice_df\", в котором будут только пользователи, выбравшие уровень сложности \"medium\". \n",
    "# Оставим в новом датафрейме только необходимые нам столбцы 'user_id', 'start_time', а также переименуем \n",
    "# столбец 'start_time' в столбец 'medium_choice_time'. \n",
    "# В заключении проверим, что на каждого уникального пользователя приходится только одно событие выбора уровня сложности. \n",
    "\n",
    "medium_level_choice_df = total_events_df[total_events_df['selected_level'] == 'medium']\n",
    "medium_level_choice_df = medium_level_choice_df[['user_id','start_time']].rename(columns={'start_time':'medium_choice_time'})\n",
    "medium_level_choice_df['user_id'].value_counts().mean()"
   ]
  },
  {
   "cell_type": "code",
   "execution_count": 455,
   "metadata": {},
   "outputs": [
    {
     "data": {
      "text/plain": [
       "1.0"
      ]
     },
     "execution_count": 455,
     "metadata": {},
     "output_type": "execute_result"
    }
   ],
   "source": [
    "# Подкорректируем ранее созданный датафрейм \"purchase_df_medium\": оставим в датафрейме только необходимые нам \n",
    "# столбцы 'user_id', 'event_datetime', а также переименуем столбец 'event_datetime' в столбец 'medium_pay_time'.\n",
    "# В заключении проверим, что на каждого уникального пользователя приходится только одно событие оплаты.\n",
    "\n",
    "purchase_df_medium = purchase_df_medium[['user_id','event_datetime']].rename(columns={'event_datetime':'medium_pay_time'})\n",
    "purchase_df_medium['user_id'].value_counts().mean()"
   ]
  },
  {
   "cell_type": "code",
   "execution_count": 456,
   "metadata": {},
   "outputs": [
    {
     "data": {
      "text/plain": [
       "1.0"
      ]
     },
     "execution_count": 456,
     "metadata": {},
     "output_type": "execute_result"
    }
   ],
   "source": [
    "# Создадим датафрейм \"hard_level_choice_df\", в котором будут только пользователи, выбравшие уровень сложности \"hard\". \n",
    "# Оставим в новом датафрейме только необходимые нам столбцы 'user_id', 'start_time', а также переименуем \n",
    "# столбец 'start_time' в столбец 'hard_choice_time'. \n",
    "# В заключении проверим, что на каждого уникального пользователя приходится только одно событие выбора уровня сложности. \n",
    "\n",
    "hard_level_choice_df = total_events_df[total_events_df['selected_level'] == 'hard']\n",
    "hard_level_choice_df = hard_level_choice_df[['user_id','start_time']].rename(columns={'start_time':'hard_choice_time'})\n",
    "hard_level_choice_df['user_id'].value_counts().mean()"
   ]
  },
  {
   "cell_type": "code",
   "execution_count": 457,
   "metadata": {},
   "outputs": [
    {
     "data": {
      "text/plain": [
       "1.0"
      ]
     },
     "execution_count": 457,
     "metadata": {},
     "output_type": "execute_result"
    }
   ],
   "source": [
    "# Подкорректируем ранее созданный датафрейм \"purchase_df_hard\": оставим в датафрейме только необходимые нам \n",
    "# столбцы 'user_id', 'start_time', а также переименуем столбец 'start_time' в столбец 'hard_pay_time'.\n",
    "# В заключении проверим, что на каждого уникального пользователя приходится только одно событие оплаты.\n",
    "\n",
    "purchase_df_hard = purchase_df_hard[['user_id','event_datetime']].rename(columns={'event_datetime':'hard_pay_time'})\n",
    "purchase_df_hard['user_id'].value_counts().mean()"
   ]
  },
  {
   "cell_type": "markdown",
   "metadata": {},
   "source": [
    "Объединим датафреймы и посчитаем разницу во времени между событиями"
   ]
  },
  {
   "cell_type": "code",
   "execution_count": 458,
   "metadata": {},
   "outputs": [
    {
     "data": {
      "text/html": [
       "<div>\n",
       "<style scoped>\n",
       "    .dataframe tbody tr th:only-of-type {\n",
       "        vertical-align: middle;\n",
       "    }\n",
       "\n",
       "    .dataframe tbody tr th {\n",
       "        vertical-align: top;\n",
       "    }\n",
       "\n",
       "    .dataframe thead th {\n",
       "        text-align: right;\n",
       "    }\n",
       "</style>\n",
       "<table border=\"1\" class=\"dataframe\">\n",
       "  <thead>\n",
       "    <tr style=\"text-align: right;\">\n",
       "      <th></th>\n",
       "      <th>user_id</th>\n",
       "      <th>easy_choice_time</th>\n",
       "      <th>easy_pay_time</th>\n",
       "    </tr>\n",
       "  </thead>\n",
       "  <tbody>\n",
       "    <tr>\n",
       "      <th>0</th>\n",
       "      <td>27884</td>\n",
       "      <td>2018-01-04 16:18:39</td>\n",
       "      <td>2018-01-08 19:37:34</td>\n",
       "    </tr>\n",
       "    <tr>\n",
       "      <th>1</th>\n",
       "      <td>28090</td>\n",
       "      <td>2018-01-09 21:34:23</td>\n",
       "      <td>2018-01-15 23:42:55</td>\n",
       "    </tr>\n",
       "    <tr>\n",
       "      <th>2</th>\n",
       "      <td>28182</td>\n",
       "      <td>2018-01-11 18:44:45</td>\n",
       "      <td>2018-01-12 02:46:01</td>\n",
       "    </tr>\n",
       "    <tr>\n",
       "      <th>3</th>\n",
       "      <td>28207</td>\n",
       "      <td>2018-01-11 21:10:51</td>\n",
       "      <td>2018-01-12 21:00:24</td>\n",
       "    </tr>\n",
       "    <tr>\n",
       "      <th>4</th>\n",
       "      <td>28254</td>\n",
       "      <td>2018-01-12 16:48:24</td>\n",
       "      <td>2018-01-19 22:08:40</td>\n",
       "    </tr>\n",
       "  </tbody>\n",
       "</table>\n",
       "</div>"
      ],
      "text/plain": [
       "   user_id    easy_choice_time       easy_pay_time\n",
       "0    27884 2018-01-04 16:18:39 2018-01-08 19:37:34\n",
       "1    28090 2018-01-09 21:34:23 2018-01-15 23:42:55\n",
       "2    28182 2018-01-11 18:44:45 2018-01-12 02:46:01\n",
       "3    28207 2018-01-11 21:10:51 2018-01-12 21:00:24\n",
       "4    28254 2018-01-12 16:48:24 2018-01-19 22:08:40"
      ]
     },
     "execution_count": 458,
     "metadata": {},
     "output_type": "execute_result"
    }
   ],
   "source": [
    "# Объединим датафрейм с пользователями, которые выбрали уровень сложности \"easy\" с датафреймом содержащим информацию об оплатах.\n",
    "easy_level_pay_users_df = easy_level_choice_df.merge(\n",
    "    purchase_df_easy, on='user_id' ,how ='inner'\n",
    "    )\n",
    "easy_level_pay_users_df.head(5)"
   ]
  },
  {
   "cell_type": "code",
   "execution_count": 459,
   "metadata": {},
   "outputs": [
    {
     "name": "stdout",
     "output_type": "stream",
     "text": [
      "3 days 14:58:52.941798941\n"
     ]
    }
   ],
   "source": [
    "# Создадим в датафрейме новый столбец ('timedelta') в который запишем разницу во времени между первой оплатой \n",
    "# и выбором уровня сложности. После этого посчитаем среднее значение времени.\n",
    "easy_level_pay_users_df['timedelta'] = (\n",
    "    easy_level_pay_users_df['easy_pay_time'] - easy_level_pay_users_df['easy_choice_time']\n",
    ")\n",
    "print(easy_level_pay_users_df['timedelta'].mean())"
   ]
  },
  {
   "cell_type": "code",
   "execution_count": 460,
   "metadata": {},
   "outputs": [
    {
     "data": {
      "text/html": [
       "<div>\n",
       "<style scoped>\n",
       "    .dataframe tbody tr th:only-of-type {\n",
       "        vertical-align: middle;\n",
       "    }\n",
       "\n",
       "    .dataframe tbody tr th {\n",
       "        vertical-align: top;\n",
       "    }\n",
       "\n",
       "    .dataframe thead th {\n",
       "        text-align: right;\n",
       "    }\n",
       "</style>\n",
       "<table border=\"1\" class=\"dataframe\">\n",
       "  <thead>\n",
       "    <tr style=\"text-align: right;\">\n",
       "      <th></th>\n",
       "      <th>user_id</th>\n",
       "      <th>medium_choice_time</th>\n",
       "      <th>medium_pay_time</th>\n",
       "    </tr>\n",
       "  </thead>\n",
       "  <tbody>\n",
       "    <tr>\n",
       "      <th>0</th>\n",
       "      <td>27973</td>\n",
       "      <td>2018-01-07 05:29:30</td>\n",
       "      <td>2018-01-13 21:50:00</td>\n",
       "    </tr>\n",
       "    <tr>\n",
       "      <th>1</th>\n",
       "      <td>27981</td>\n",
       "      <td>2018-01-07 10:46:14</td>\n",
       "      <td>2018-01-07 23:20:25</td>\n",
       "    </tr>\n",
       "    <tr>\n",
       "      <th>2</th>\n",
       "      <td>28010</td>\n",
       "      <td>2018-01-08 00:00:52</td>\n",
       "      <td>2018-01-10 05:32:47</td>\n",
       "    </tr>\n",
       "    <tr>\n",
       "      <th>3</th>\n",
       "      <td>28020</td>\n",
       "      <td>2018-01-08 14:47:35</td>\n",
       "      <td>2018-01-11 21:43:03</td>\n",
       "    </tr>\n",
       "    <tr>\n",
       "      <th>4</th>\n",
       "      <td>28033</td>\n",
       "      <td>2018-01-08 17:06:39</td>\n",
       "      <td>2018-01-16 05:08:41</td>\n",
       "    </tr>\n",
       "  </tbody>\n",
       "</table>\n",
       "</div>"
      ],
      "text/plain": [
       "   user_id  medium_choice_time     medium_pay_time\n",
       "0    27973 2018-01-07 05:29:30 2018-01-13 21:50:00\n",
       "1    27981 2018-01-07 10:46:14 2018-01-07 23:20:25\n",
       "2    28010 2018-01-08 00:00:52 2018-01-10 05:32:47\n",
       "3    28020 2018-01-08 14:47:35 2018-01-11 21:43:03\n",
       "4    28033 2018-01-08 17:06:39 2018-01-16 05:08:41"
      ]
     },
     "execution_count": 460,
     "metadata": {},
     "output_type": "execute_result"
    }
   ],
   "source": [
    "# Объединим датафрейм с пользователями, которые выбрали уровень сложности \"medium\" с датафреймом содержащим информацию об оплатах.\n",
    "medium_level_pay_users_df = medium_level_choice_df.merge(\n",
    "    purchase_df_medium, on='user_id', how='inner'\n",
    "    )\n",
    "medium_level_pay_users_df.head(5)"
   ]
  },
  {
   "cell_type": "code",
   "execution_count": 461,
   "metadata": {},
   "outputs": [
    {
     "name": "stdout",
     "output_type": "stream",
     "text": [
      "3 days 23:14:13.165118679\n"
     ]
    }
   ],
   "source": [
    "# Создадим в датафрейме новый столбец ('timedelta') в который запишем разницу во времени между первой оплатой \n",
    "# и выбором уровня сложности. После этого посчитаем среднее значение времени.\n",
    "medium_level_pay_users_df['timedelta'] = medium_level_pay_users_df['medium_pay_time'] - medium_level_pay_users_df['medium_choice_time']\n",
    "print(medium_level_pay_users_df['timedelta'].mean())"
   ]
  },
  {
   "cell_type": "code",
   "execution_count": 462,
   "metadata": {},
   "outputs": [
    {
     "data": {
      "text/html": [
       "<div>\n",
       "<style scoped>\n",
       "    .dataframe tbody tr th:only-of-type {\n",
       "        vertical-align: middle;\n",
       "    }\n",
       "\n",
       "    .dataframe tbody tr th {\n",
       "        vertical-align: top;\n",
       "    }\n",
       "\n",
       "    .dataframe thead th {\n",
       "        text-align: right;\n",
       "    }\n",
       "</style>\n",
       "<table border=\"1\" class=\"dataframe\">\n",
       "  <thead>\n",
       "    <tr style=\"text-align: right;\">\n",
       "      <th></th>\n",
       "      <th>user_id</th>\n",
       "      <th>hard_choice_time</th>\n",
       "      <th>hard_pay_time</th>\n",
       "    </tr>\n",
       "  </thead>\n",
       "  <tbody>\n",
       "    <tr>\n",
       "      <th>0</th>\n",
       "      <td>27845</td>\n",
       "      <td>2018-01-02 06:19:18</td>\n",
       "      <td>2018-01-03 18:53:43</td>\n",
       "    </tr>\n",
       "    <tr>\n",
       "      <th>1</th>\n",
       "      <td>27865</td>\n",
       "      <td>2018-01-04 05:56:32</td>\n",
       "      <td>2018-01-04 14:46:10</td>\n",
       "    </tr>\n",
       "    <tr>\n",
       "      <th>2</th>\n",
       "      <td>27910</td>\n",
       "      <td>2018-01-05 11:59:50</td>\n",
       "      <td>2018-01-07 12:11:34</td>\n",
       "    </tr>\n",
       "    <tr>\n",
       "      <th>3</th>\n",
       "      <td>27911</td>\n",
       "      <td>2018-01-05 17:39:02</td>\n",
       "      <td>2018-01-07 08:19:12</td>\n",
       "    </tr>\n",
       "    <tr>\n",
       "      <th>4</th>\n",
       "      <td>27940</td>\n",
       "      <td>2018-01-06 00:32:47</td>\n",
       "      <td>2018-01-07 13:16:41</td>\n",
       "    </tr>\n",
       "  </tbody>\n",
       "</table>\n",
       "</div>"
      ],
      "text/plain": [
       "   user_id    hard_choice_time       hard_pay_time\n",
       "0    27845 2018-01-02 06:19:18 2018-01-03 18:53:43\n",
       "1    27865 2018-01-04 05:56:32 2018-01-04 14:46:10\n",
       "2    27910 2018-01-05 11:59:50 2018-01-07 12:11:34\n",
       "3    27911 2018-01-05 17:39:02 2018-01-07 08:19:12\n",
       "4    27940 2018-01-06 00:32:47 2018-01-07 13:16:41"
      ]
     },
     "execution_count": 462,
     "metadata": {},
     "output_type": "execute_result"
    }
   ],
   "source": [
    "# Объединим датафрейм с пользователями, которые выбрали уровень сложности \"hard\" с датафреймом содержащим информацию об оплатах.\n",
    "hard_level_pay_users_df = hard_level_choice_df.merge(\n",
    "    purchase_df_hard, on='user_id', how='inner'\n",
    ")\n",
    "hard_level_pay_users_df.head(5)"
   ]
  },
  {
   "cell_type": "code",
   "execution_count": 463,
   "metadata": {},
   "outputs": [
    {
     "name": "stdout",
     "output_type": "stream",
     "text": [
      "3 days 07:20:41.420814479\n"
     ]
    }
   ],
   "source": [
    "# Создадим в датафрейме новый столбец ('timedelta') в который запишем разницу во времени между первой оплатой \n",
    "# и выбором уровня сложности. После этого посчитаем среднее значение времени.\n",
    "hard_level_pay_users_df['timedelta'] = hard_level_pay_users_df['hard_pay_time'] - hard_level_pay_users_df['hard_choice_time']\n",
    "print(hard_level_pay_users_df['timedelta'].mean())"
   ]
  },
  {
   "cell_type": "markdown",
   "metadata": {},
   "source": [
    "#### Проверим, существует ли разница во времени между событиями регистрации и оплаты для разных групп пользователей с разным уровнем сложности"
   ]
  },
  {
   "cell_type": "code",
   "execution_count": 464,
   "metadata": {},
   "outputs": [],
   "source": [
    "# Создадим датафрейм содержащий только события 'event_type' = 'registration'.  \n",
    "registration_df = total_events_df[total_events_df['event_type'] == 'registration']"
   ]
  },
  {
   "cell_type": "code",
   "execution_count": 465,
   "metadata": {},
   "outputs": [
    {
     "data": {
      "text/plain": [
       "1.0"
      ]
     },
     "execution_count": 465,
     "metadata": {},
     "output_type": "execute_result"
    }
   ],
   "source": [
    "#Проверим, что в нашем датафрейме registration_df для каждого пользователя содержится только по одному событию, то есть по одной регистрации на пользователя.\n",
    "registration_df['user_id'].value_counts().mean()"
   ]
  },
  {
   "cell_type": "code",
   "execution_count": 466,
   "metadata": {},
   "outputs": [],
   "source": [
    "registration_df = registration_df[[\"user_id\", \"start_time\"]].rename(\n",
    "    columns={\"start_time\": \"registration_time\"}\n",
    ")"
   ]
  },
  {
   "cell_type": "markdown",
   "metadata": {},
   "source": [
    "Объеденим датафреймы registration_df и группы пользователей с разным уровнем сложности.  \n",
    "Сделаем столбец timedelta, в котором посчитаем разницу между временем оплаты (*уровень сложности*_pay_time)  \n",
    "и временем регистрации (registration_time):"
   ]
  },
  {
   "cell_type": "code",
   "execution_count": 467,
   "metadata": {},
   "outputs": [
    {
     "data": {
      "text/plain": [
       "Timedelta('3 days 22:10:23.211640211')"
      ]
     },
     "execution_count": 467,
     "metadata": {},
     "output_type": "execute_result"
    }
   ],
   "source": [
    "#easy\n",
    "merged_df_easy = registration_df.merge(\n",
    "    easy_level_pay_users_df, on=\"user_id\", how=\"inner\"\n",
    ")\n",
    "\n",
    "merged_df_easy[\"timedelta\"] = (\n",
    "    merged_df_easy[\"easy_pay_time\"] - merged_df_easy[\"registration_time\"]\n",
    ")\n",
    "merged_df_easy[\"timedelta\"].mean()"
   ]
  },
  {
   "cell_type": "code",
   "execution_count": 468,
   "metadata": {},
   "outputs": [
    {
     "data": {
      "text/plain": [
       "Timedelta('4 days 06:12:06.576883384')"
      ]
     },
     "execution_count": 468,
     "metadata": {},
     "output_type": "execute_result"
    }
   ],
   "source": [
    "#medium\n",
    "merged_df_medium = registration_df.merge(\n",
    "    medium_level_pay_users_df, on=\"user_id\", how=\"inner\"\n",
    ")\n",
    "merged_df_medium[\"timedelta\"] = (\n",
    "    merged_df_medium[\"medium_pay_time\"] - merged_df_medium[\"registration_time\"]\n",
    ")\n",
    "merged_df_medium[\"timedelta\"].mean()"
   ]
  },
  {
   "cell_type": "code",
   "execution_count": 469,
   "metadata": {},
   "outputs": [
    {
     "data": {
      "text/plain": [
       "Timedelta('3 days 14:55:19.257918552')"
      ]
     },
     "execution_count": 469,
     "metadata": {},
     "output_type": "execute_result"
    }
   ],
   "source": [
    "#hard\n",
    "merged_df_hard = registration_df.merge(\n",
    "    hard_level_pay_users_df, on=\"user_id\", how=\"inner\"\n",
    ")\n",
    "merged_df_hard[\"timedelta\"] = (\n",
    "    merged_df_hard[\"hard_pay_time\"] - merged_df_hard[\"registration_time\"]\n",
    ")\n",
    "merged_df_hard[\"timedelta\"].mean()"
   ]
  },
  {
   "cell_type": "markdown",
   "metadata": {},
   "source": [
    "# Выводы\n",
    "1. Зависит ли вероятность оплаты от выбранного пользователем уровня сложности?  \n",
    "По результатам проведенного анализа выявлены следующие показатели зависимости оплаты от выбранного пользователем уровня сложности:\n",
    "* easy ~8%\n",
    "* medium ~21%\n",
    "* hard ~35%  \n",
    "Таким образом, мы видим, что с изменением уровня сложности от легкого к трудному, вероятность, что пользователь совершит оплату **увеличивается**.  \n",
    "\n",
    "2. Существует ли разница во времени между событиями регистрации и оплаты для разных групп пользователей с разным уровнем сложности?  \n",
    "Среди пользователей, выбравших уровни сложности, среднее время между *выбором уровня сложности* и *первой оплаты* составляет в среднем для:\n",
    "* easy - 3 дня ~15 часов\n",
    "* medium - 3 дня ~23 часа\n",
    "* hard - 3 дня ~7 часов  \n",
    "Как видим, быстрее всего начинают платить пользователи, выбравшие уровень сложности \"hard\", им требуется в среднем 3 дня и 7,5 часов.  \n",
    "Самым длинный временной отрезок между событиями выбора уровня сложности и оплаты - оказался для группы пользователей, которые выбрали уровень **medium** - он составляет ~4 дня  \n",
    "Разница между событиями *регистрации* и *оплаты* для разных групп пользователей с *разным уровнем сложности* составляет:\n",
    "* easy - 3 дня ~22 часа\n",
    "* medium - 4 дня ~6 часов\n",
    "* hard - 3 дня ~15 часов  \n",
    "Отвечая на основной вопрос из задания про разницу во времени выделим следующее наблюдение: самый короткий временной промежуток от регистрации до оплаты составил 3д 15ч для группы пользователей, выбравших уровень **hard**.  \n"
   ]
  }
 ],
 "metadata": {
  "interpreter": {
   "hash": "669f045e892559aba9dcb5528f49294207e25a0531cd24cc392f4c78fcb2fc9f"
  },
  "kernelspec": {
   "display_name": "Python 3.10.1 64-bit",
   "language": "python",
   "name": "python3"
  },
  "language_info": {
   "codemirror_mode": {
    "name": "ipython",
    "version": 3
   },
   "file_extension": ".py",
   "mimetype": "text/x-python",
   "name": "python",
   "nbconvert_exporter": "python",
   "pygments_lexer": "ipython3",
   "version": "3.10.1"
  },
  "orig_nbformat": 4
 },
 "nbformat": 4,
 "nbformat_minor": 2
}
