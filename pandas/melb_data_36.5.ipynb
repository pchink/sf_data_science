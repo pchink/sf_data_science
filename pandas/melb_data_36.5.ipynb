{
 "cells": [
  {
   "cell_type": "code",
   "execution_count": 1,
   "metadata": {},
   "outputs": [
    {
     "name": "stdout",
     "output_type": "stream",
     "text": [
      "<class 'pandas.core.frame.DataFrame'>\n",
      "RangeIndex: 13580 entries, 0 to 13579\n",
      "Data columns (total 23 columns):\n",
      " #   Column         Non-Null Count  Dtype  \n",
      "---  ------         --------------  -----  \n",
      " 0   index          13580 non-null  int64  \n",
      " 1   Suburb         13580 non-null  object \n",
      " 2   Address        13580 non-null  object \n",
      " 3   Rooms          13580 non-null  int64  \n",
      " 4   Type           13580 non-null  object \n",
      " 5   Price          13580 non-null  float64\n",
      " 6   Method         13580 non-null  object \n",
      " 7   SellerG        13580 non-null  object \n",
      " 8   Date           13580 non-null  object \n",
      " 9   Distance       13580 non-null  float64\n",
      " 10  Postcode       13580 non-null  int64  \n",
      " 11  Bedroom        13580 non-null  float64\n",
      " 12  Bathroom       13580 non-null  float64\n",
      " 13  Car            13580 non-null  float64\n",
      " 14  Landsize       13580 non-null  float64\n",
      " 15  BuildingArea   13580 non-null  float64\n",
      " 16  YearBuilt      13580 non-null  float64\n",
      " 17  CouncilArea    12211 non-null  object \n",
      " 18  Lattitude      13580 non-null  float64\n",
      " 19  Longtitude     13580 non-null  float64\n",
      " 20  Regionname     13580 non-null  object \n",
      " 21  Propertycount  13580 non-null  float64\n",
      " 22  Coordinates    13580 non-null  object \n",
      "dtypes: float64(11), int64(3), object(9)\n",
      "memory usage: 2.4+ MB\n"
     ]
    }
   ],
   "source": [
    "import pandas as pd\n",
    "melb_df = pd.read_csv('data/melb_data.csv')\n",
    "melb_df.info()"
   ]
  },
  {
   "cell_type": "code",
   "execution_count": 3,
   "metadata": {},
   "outputs": [
    {
     "name": "stdout",
     "output_type": "stream",
     "text": [
      "<class 'pandas.core.frame.DataFrame'>\n",
      "RangeIndex: 13580 entries, 0 to 13579\n",
      "Data columns (total 23 columns):\n",
      " #   Column         Non-Null Count  Dtype   \n",
      "---  ------         --------------  -----   \n",
      " 0   index          13580 non-null  int64   \n",
      " 1   Suburb         13580 non-null  category\n",
      " 2   Address        13580 non-null  object  \n",
      " 3   Rooms          13580 non-null  int64   \n",
      " 4   Type           13580 non-null  object  \n",
      " 5   Price          13580 non-null  float64 \n",
      " 6   Method         13580 non-null  object  \n",
      " 7   SellerG        13580 non-null  object  \n",
      " 8   Date           13580 non-null  object  \n",
      " 9   Distance       13580 non-null  float64 \n",
      " 10  Postcode       13580 non-null  int64   \n",
      " 11  Bedroom        13580 non-null  float64 \n",
      " 12  Bathroom       13580 non-null  float64 \n",
      " 13  Car            13580 non-null  float64 \n",
      " 14  Landsize       13580 non-null  float64 \n",
      " 15  BuildingArea   13580 non-null  float64 \n",
      " 16  YearBuilt      13580 non-null  float64 \n",
      " 17  CouncilArea    12211 non-null  object  \n",
      " 18  Lattitude      13580 non-null  float64 \n",
      " 19  Longtitude     13580 non-null  float64 \n",
      " 20  Regionname     13580 non-null  object  \n",
      " 21  Propertycount  13580 non-null  float64 \n",
      " 22  Coordinates    13580 non-null  object  \n",
      "dtypes: category(1), float64(11), int64(3), object(8)\n",
      "memory usage: 2.3+ MB\n"
     ]
    }
   ],
   "source": [
    "melb_df = pd.read_csv('data/melb_data.csv')\n",
    "popular_suburb = melb_df['Suburb'].value_counts().nlargest(119).index\n",
    "melb_df['Suburb'] = melb_df['Suburb'].apply(lambda x: x if x in popular_suburb else 'other')\n",
    "melb_df['Suburb'] = melb_df['Suburb'].astype('category')\n",
    "melb_df.info()"
   ]
  }
 ],
 "metadata": {
  "interpreter": {
   "hash": "669f045e892559aba9dcb5528f49294207e25a0531cd24cc392f4c78fcb2fc9f"
  },
  "kernelspec": {
   "display_name": "Python 3.10.1 64-bit",
   "language": "python",
   "name": "python3"
  },
  "language_info": {
   "codemirror_mode": {
    "name": "ipython",
    "version": 3
   },
   "file_extension": ".py",
   "mimetype": "text/x-python",
   "name": "python",
   "nbconvert_exporter": "python",
   "pygments_lexer": "ipython3",
   "version": "3.10.1"
  },
  "orig_nbformat": 4
 },
 "nbformat": 4,
 "nbformat_minor": 2
}
