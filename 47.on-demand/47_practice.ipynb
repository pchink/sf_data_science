{
 "cells": [
  {
   "cell_type": "markdown",
   "metadata": {},
   "source": [
    "### ЛЕГЕНДА\n",
    "Продолжаем пробовать новые роли! На этот раз вы — маркетинговый аналитик в компании, предлагающей услуги клининга.\n",
    "\n",
    "В набор предоставляемых услуг входят три направления: уборка, химчистка, стирка и глажка.\n",
    "\n",
    "К вам пришёл руководитель направления «Уборка» и попросил выгрузить статистику по конверсии в найм клинеров."
   ]
  },
  {
   "cell_type": "markdown",
   "metadata": {},
   "source": [
    "### ЦЕЛЬ\n",
    "Определить коэффициент конверсии в найм клинеров."
   ]
  },
  {
   "cell_type": "markdown",
   "metadata": {},
   "source": [
    "#### ЗАДАЧИ\n",
    "Выгрузить данные.\n",
    "Рассчитать коэффициент конверсии с помощью Pandas."
   ]
  },
  {
   "cell_type": "markdown",
   "metadata": {},
   "source": [
    "#### КОНКРЕТНЫЕ ШАГИ (ФОРМАЛИЗОВАННЫЕ ЗАДАЧИ)\n",
    "* Определить параметры запроса к Яндекс.Метрике.\n",
    "* Выгрузить их по API с помощью Jupyter Notebook.\n",
    "* Обработать данные в Pandas.\n",
    "* Посчитать коэффициент конверсии по каналам."
   ]
  },
  {
   "cell_type": "markdown",
   "metadata": {},
   "source": [
    "#### ЗНАКОМСТВО С ДАННЫМИ\n",
    "Для выгрузки отчёта нам необходимы следующие данные:\n",
    "\n",
    "* источники трафика по модели атрибуции «Последний значимый источник»;\n",
    "* суммарное количество визитов;\n",
    "* количество выполнений целевого условия «Найм клинеров» во всех визитах."
   ]
  },
  {
   "cell_type": "code",
   "execution_count": 44,
   "metadata": {},
   "outputs": [],
   "source": [
    "# Идентификатор счётчика Яндекс.Метрики сайта: 30177909\n",
    "\n",
    "# Идентификатор достижения цели «Найм клинеров»: 137595631"
   ]
  },
  {
   "cell_type": "code",
   "execution_count": 45,
   "metadata": {},
   "outputs": [],
   "source": [
    "import json \n",
    "import requests\n",
    "from pprint import pprint"
   ]
  },
  {
   "cell_type": "code",
   "execution_count": 46,
   "metadata": {},
   "outputs": [],
   "source": [
    "token = 'AQAAAAAB95q6AAfACLdBhhkWNkBjiL0XU9oCf-o' \n",
    "headers = {'Authorization': 'OAuth ' + token}\n",
    "# Идентификатор счётчика Яндекс.Метрики сайта: 30177909\n",
    "# Идентификатор достижения цели «Найм клинеров»: 137595631\n",
    "params = {'metrics': 'ym:s:visits,ym:s:goal137595631reaches',\n",
    "          'dimensions': 'ym:s:lastsignTrafficSource',\n",
    "          'date1': '2020-09-01',\n",
    "          'date2': '2020-09-30',\n",
    "          'ids': 30177909,\n",
    "          'accuracy':'full',\n",
    "          'limit':100000}\n",
    "response = requests.get('https://api-metrika.yandex.net/stat/v1/data', params=params, headers=headers)\n",
    "metrika_data = response.json()\n",
    "# print(metrika_data.keys())\n",
    "# metrika_data['total_rows']\n",
    "# pprint(metrika_data['data'][0:5])"
   ]
  },
  {
   "cell_type": "code",
   "execution_count": 47,
   "metadata": {},
   "outputs": [
    {
     "data": {
      "text/html": [
       "<div>\n",
       "<style scoped>\n",
       "    .dataframe tbody tr th:only-of-type {\n",
       "        vertical-align: middle;\n",
       "    }\n",
       "\n",
       "    .dataframe tbody tr th {\n",
       "        vertical-align: top;\n",
       "    }\n",
       "\n",
       "    .dataframe thead th {\n",
       "        text-align: right;\n",
       "    }\n",
       "</style>\n",
       "<table border=\"1\" class=\"dataframe\">\n",
       "  <thead>\n",
       "    <tr style=\"text-align: right;\">\n",
       "      <th></th>\n",
       "      <th>dimensions</th>\n",
       "      <th>metrics</th>\n",
       "    </tr>\n",
       "  </thead>\n",
       "  <tbody>\n",
       "    <tr>\n",
       "      <th>0</th>\n",
       "      <td>[{'icon_id': '2', 'icon_type': 'traffic-source...</td>\n",
       "      <td>[3334.0, 0.0]</td>\n",
       "    </tr>\n",
       "    <tr>\n",
       "      <th>1</th>\n",
       "      <td>[{'icon_id': '0', 'icon_type': 'traffic-source...</td>\n",
       "      <td>[757.0, 0.0]</td>\n",
       "    </tr>\n",
       "    <tr>\n",
       "      <th>2</th>\n",
       "      <td>[{'icon_id': '1', 'icon_type': 'traffic-source...</td>\n",
       "      <td>[126.0, 0.0]</td>\n",
       "    </tr>\n",
       "    <tr>\n",
       "      <th>3</th>\n",
       "      <td>[{'icon_id': '8', 'icon_type': 'traffic-source...</td>\n",
       "      <td>[80.0, 0.0]</td>\n",
       "    </tr>\n",
       "    <tr>\n",
       "      <th>4</th>\n",
       "      <td>[{'icon_id': '-1', 'icon_type': 'traffic-sourc...</td>\n",
       "      <td>[10.0, 0.0]</td>\n",
       "    </tr>\n",
       "    <tr>\n",
       "      <th>5</th>\n",
       "      <td>[{'icon_id': '4', 'icon_type': 'traffic-source...</td>\n",
       "      <td>[6.0, 0.0]</td>\n",
       "    </tr>\n",
       "    <tr>\n",
       "      <th>6</th>\n",
       "      <td>[{'icon_id': '9', 'icon_type': 'traffic-source...</td>\n",
       "      <td>[2.0, 0.0]</td>\n",
       "    </tr>\n",
       "  </tbody>\n",
       "</table>\n",
       "</div>"
      ],
      "text/plain": [
       "                                          dimensions        metrics\n",
       "0  [{'icon_id': '2', 'icon_type': 'traffic-source...  [3334.0, 0.0]\n",
       "1  [{'icon_id': '0', 'icon_type': 'traffic-source...   [757.0, 0.0]\n",
       "2  [{'icon_id': '1', 'icon_type': 'traffic-source...   [126.0, 0.0]\n",
       "3  [{'icon_id': '8', 'icon_type': 'traffic-source...    [80.0, 0.0]\n",
       "4  [{'icon_id': '-1', 'icon_type': 'traffic-sourc...    [10.0, 0.0]\n",
       "5  [{'icon_id': '4', 'icon_type': 'traffic-source...     [6.0, 0.0]\n",
       "6  [{'icon_id': '9', 'icon_type': 'traffic-source...     [2.0, 0.0]"
      ]
     },
     "metadata": {},
     "output_type": "display_data"
    }
   ],
   "source": [
    "import pandas as pd # Импортируем библиотеку pandas под псевдонимом pd\n",
    "\n",
    "metrika_df = pd.DataFrame(metrika_data['data'])\n",
    "display(metrika_df.head(10)) # Функция .head(10) позволяет выбрать только 10 первые строк датафрейма "
   ]
  },
  {
   "cell_type": "markdown",
   "metadata": {},
   "source": [
    "Видим, что нет данных по конверсии, все значения равны 0. Связано с тем, что не собираются данные по цели. Если заглянуть в настройки Яндекс.Метрики, видно, что данные по цели начали собирать с 7 октября."
   ]
  },
  {
   "cell_type": "markdown",
   "metadata": {},
   "source": [
    "Меняем период в самом первом блоке кода:"
   ]
  },
  {
   "cell_type": "code",
   "execution_count": 48,
   "metadata": {},
   "outputs": [],
   "source": [
    "# основа\n",
    "import json \n",
    "import requests\n",
    "from pprint import pprint\n",
    "token = 'AQAAAAAB95q6AAfACLdBhhkWNkBjiL0XU9oCf-o' \n",
    "headers = {'Authorization': 'OAuth ' + token}"
   ]
  },
  {
   "cell_type": "code",
   "execution_count": 49,
   "metadata": {},
   "outputs": [],
   "source": [
    "params = {'metrics': 'ym:s:visits,ym:s:goal137595631reaches',\n",
    "          'dimensions': 'ym:s:lastsignTrafficSource', # атрибуция по последнему значимому источнику. \n",
    "          #'dimensions': 'ym:s:lastTrafficSource', # атрибуция по последнему источнику; для задания 47.6.2\n",
    "          'date1': '2020-10-07',  \n",
    "          'date2': '2020-10-09',     \n",
    "          'ids': 30177909,\n",
    "          'accuracy':'full',\n",
    "          'limit':100000}\n",
    "response = requests.get('https://api-metrika.yandex.net/stat/v1/data', params=params, headers=headers)\n",
    "metrika_data = response.json()"
   ]
  },
  {
   "cell_type": "markdown",
   "metadata": {},
   "source": [
    "Избавляемся от вложенных словарей.\n",
    "Преобразуем данные в так называемый плоский вид, то есть избавимся от вложенных словарей."
   ]
  },
  {
   "cell_type": "code",
   "execution_count": 50,
   "metadata": {},
   "outputs": [],
   "source": [
    "def getMetrikaDataInListOfDicts(metrika_data):\n",
    "    list_of_dicts = []\n",
    "    dimensions_list = metrika_data['query']['dimensions']\n",
    "    metrics_list = metrika_data['query']['metrics']\n",
    "    for data_item in metrika_data['data']:\n",
    "        d = {}\n",
    "        for i,dimension in enumerate(data_item['dimensions']):\n",
    "            d[dimensions_list[i]] = dimension['name']\n",
    "        for i,metric in enumerate(data_item['metrics']):\n",
    "            d[metrics_list[i]] = metric\n",
    "        list_of_dicts.append(d)\n",
    "    return list_of_dicts"
   ]
  },
  {
   "cell_type": "markdown",
   "metadata": {},
   "source": [
    "Обратите внимание на использование функции enumerate(). Она позволяет сделать цикл по списку, при этом возвращая сам элемент списка, а также его индекс в этом списке. Это может быть удобно, если нужно сделать вывод информационного сообщения о количестве пройденных итераций цикла. Также эта функция бывает полезна, если нужно параллельно обращаться к соответствующему элементу другого списка, как в случае нашей функции getMetrikaDataInListOfDicts()."
   ]
  },
  {
   "cell_type": "code",
   "execution_count": 51,
   "metadata": {},
   "outputs": [
    {
     "name": "stdout",
     "output_type": "stream",
     "text": [
      "[{'ym:s:goal137595631reaches': 10.0,\n",
      "  'ym:s:lastsignTrafficSource': 'Search engine traffic',\n",
      "  'ym:s:visits': 345.0},\n",
      " {'ym:s:goal137595631reaches': 5.0,\n",
      "  'ym:s:lastsignTrafficSource': 'Direct traffic',\n",
      "  'ym:s:visits': 113.0},\n",
      " {'ym:s:goal137595631reaches': 1.0,\n",
      "  'ym:s:lastsignTrafficSource': 'Link traffic',\n",
      "  'ym:s:visits': 16.0},\n",
      " {'ym:s:goal137595631reaches': 1.0,\n",
      "  'ym:s:lastsignTrafficSource': 'Social network traffic',\n",
      "  'ym:s:visits': 12.0},\n",
      " {'ym:s:goal137595631reaches': 0.0,\n",
      "  'ym:s:lastsignTrafficSource': 'Internal traffic',\n",
      "  'ym:s:visits': 2.0}]\n"
     ]
    }
   ],
   "source": [
    "metrika_list_of_dicts = getMetrikaDataInListOfDicts(metrika_data)\n",
    "pprint(metrika_list_of_dicts[0:5])"
   ]
  },
  {
   "cell_type": "markdown",
   "metadata": {},
   "source": [
    "Создаём датафрейм"
   ]
  },
  {
   "cell_type": "code",
   "execution_count": 52,
   "metadata": {},
   "outputs": [
    {
     "data": {
      "text/html": [
       "<div>\n",
       "<style scoped>\n",
       "    .dataframe tbody tr th:only-of-type {\n",
       "        vertical-align: middle;\n",
       "    }\n",
       "\n",
       "    .dataframe tbody tr th {\n",
       "        vertical-align: top;\n",
       "    }\n",
       "\n",
       "    .dataframe thead th {\n",
       "        text-align: right;\n",
       "    }\n",
       "</style>\n",
       "<table border=\"1\" class=\"dataframe\">\n",
       "  <thead>\n",
       "    <tr style=\"text-align: right;\">\n",
       "      <th></th>\n",
       "      <th>ym:s:lastsignTrafficSource</th>\n",
       "      <th>ym:s:visits</th>\n",
       "      <th>ym:s:goal137595631reaches</th>\n",
       "    </tr>\n",
       "  </thead>\n",
       "  <tbody>\n",
       "    <tr>\n",
       "      <th>0</th>\n",
       "      <td>Search engine traffic</td>\n",
       "      <td>345.0</td>\n",
       "      <td>10.0</td>\n",
       "    </tr>\n",
       "    <tr>\n",
       "      <th>1</th>\n",
       "      <td>Direct traffic</td>\n",
       "      <td>113.0</td>\n",
       "      <td>5.0</td>\n",
       "    </tr>\n",
       "    <tr>\n",
       "      <th>2</th>\n",
       "      <td>Link traffic</td>\n",
       "      <td>16.0</td>\n",
       "      <td>1.0</td>\n",
       "    </tr>\n",
       "    <tr>\n",
       "      <th>3</th>\n",
       "      <td>Social network traffic</td>\n",
       "      <td>12.0</td>\n",
       "      <td>1.0</td>\n",
       "    </tr>\n",
       "    <tr>\n",
       "      <th>4</th>\n",
       "      <td>Internal traffic</td>\n",
       "      <td>2.0</td>\n",
       "      <td>0.0</td>\n",
       "    </tr>\n",
       "  </tbody>\n",
       "</table>\n",
       "</div>"
      ],
      "text/plain": [
       "  ym:s:lastsignTrafficSource  ym:s:visits  ym:s:goal137595631reaches\n",
       "0      Search engine traffic        345.0                       10.0\n",
       "1             Direct traffic        113.0                        5.0\n",
       "2               Link traffic         16.0                        1.0\n",
       "3     Social network traffic         12.0                        1.0\n",
       "4           Internal traffic          2.0                        0.0"
      ]
     },
     "metadata": {},
     "output_type": "display_data"
    }
   ],
   "source": [
    "# Передадим metrika_list_of_dicts в функцию pd.DataFrame(), чтобы создать датафрейм metrika_df:\n",
    "\n",
    "metrika_df = pd.DataFrame(metrika_list_of_dicts)\n",
    "display(metrika_df.head(10))"
   ]
  },
  {
   "cell_type": "code",
   "execution_count": 53,
   "metadata": {},
   "outputs": [
    {
     "data": {
      "text/html": [
       "<div>\n",
       "<style scoped>\n",
       "    .dataframe tbody tr th:only-of-type {\n",
       "        vertical-align: middle;\n",
       "    }\n",
       "\n",
       "    .dataframe tbody tr th {\n",
       "        vertical-align: top;\n",
       "    }\n",
       "\n",
       "    .dataframe thead th {\n",
       "        text-align: right;\n",
       "    }\n",
       "</style>\n",
       "<table border=\"1\" class=\"dataframe\">\n",
       "  <thead>\n",
       "    <tr style=\"text-align: right;\">\n",
       "      <th></th>\n",
       "      <th>Source</th>\n",
       "      <th>Visits</th>\n",
       "      <th>Conversions</th>\n",
       "      <th>Last non-direct CR%</th>\n",
       "    </tr>\n",
       "  </thead>\n",
       "  <tbody>\n",
       "    <tr>\n",
       "      <th>0</th>\n",
       "      <td>Search engine traffic</td>\n",
       "      <td>345.0</td>\n",
       "      <td>10.0</td>\n",
       "      <td>0.028986</td>\n",
       "    </tr>\n",
       "    <tr>\n",
       "      <th>1</th>\n",
       "      <td>Direct traffic</td>\n",
       "      <td>113.0</td>\n",
       "      <td>5.0</td>\n",
       "      <td>0.044248</td>\n",
       "    </tr>\n",
       "    <tr>\n",
       "      <th>2</th>\n",
       "      <td>Link traffic</td>\n",
       "      <td>16.0</td>\n",
       "      <td>1.0</td>\n",
       "      <td>0.062500</td>\n",
       "    </tr>\n",
       "    <tr>\n",
       "      <th>3</th>\n",
       "      <td>Social network traffic</td>\n",
       "      <td>12.0</td>\n",
       "      <td>1.0</td>\n",
       "      <td>0.083333</td>\n",
       "    </tr>\n",
       "    <tr>\n",
       "      <th>4</th>\n",
       "      <td>Internal traffic</td>\n",
       "      <td>2.0</td>\n",
       "      <td>0.0</td>\n",
       "      <td>0.000000</td>\n",
       "    </tr>\n",
       "  </tbody>\n",
       "</table>\n",
       "</div>"
      ],
      "text/plain": [
       "                   Source  Visits  Conversions  Last non-direct CR%\n",
       "0   Search engine traffic   345.0         10.0             0.028986\n",
       "1          Direct traffic   113.0          5.0             0.044248\n",
       "2            Link traffic    16.0          1.0             0.062500\n",
       "3  Social network traffic    12.0          1.0             0.083333\n",
       "4        Internal traffic     2.0          0.0             0.000000"
      ]
     },
     "metadata": {},
     "output_type": "display_data"
    }
   ],
   "source": [
    "# Для удобства переименуем столбцы и сразу же добавим новый столбец с расчётом.\n",
    "\n",
    "metrika_df.columns=['Source','Visits','Conversions']\n",
    "metrika_df['Last non-direct CR%'] = metrika_df['Conversions']/metrika_df['Visits']\n",
    "display(metrika_df.head(10))"
   ]
  },
  {
   "cell_type": "code",
   "execution_count": 60,
   "metadata": {},
   "outputs": [
    {
     "data": {
      "text/html": [
       "<div>\n",
       "<style scoped>\n",
       "    .dataframe tbody tr th:only-of-type {\n",
       "        vertical-align: middle;\n",
       "    }\n",
       "\n",
       "    .dataframe tbody tr th {\n",
       "        vertical-align: top;\n",
       "    }\n",
       "\n",
       "    .dataframe thead th {\n",
       "        text-align: right;\n",
       "    }\n",
       "</style>\n",
       "<table border=\"1\" class=\"dataframe\">\n",
       "  <thead>\n",
       "    <tr style=\"text-align: right;\">\n",
       "      <th></th>\n",
       "      <th>Source</th>\n",
       "      <th>Visits</th>\n",
       "      <th>Conversions</th>\n",
       "      <th>Last click CR%</th>\n",
       "    </tr>\n",
       "  </thead>\n",
       "  <tbody>\n",
       "    <tr>\n",
       "      <th>0</th>\n",
       "      <td>Search engine traffic</td>\n",
       "      <td>317.0</td>\n",
       "      <td>10.0</td>\n",
       "      <td>0.031546</td>\n",
       "    </tr>\n",
       "    <tr>\n",
       "      <th>1</th>\n",
       "      <td>Direct traffic</td>\n",
       "      <td>144.0</td>\n",
       "      <td>6.0</td>\n",
       "      <td>0.041667</td>\n",
       "    </tr>\n",
       "    <tr>\n",
       "      <th>2</th>\n",
       "      <td>Link traffic</td>\n",
       "      <td>15.0</td>\n",
       "      <td>1.0</td>\n",
       "      <td>0.066667</td>\n",
       "    </tr>\n",
       "    <tr>\n",
       "      <th>3</th>\n",
       "      <td>Social network traffic</td>\n",
       "      <td>10.0</td>\n",
       "      <td>0.0</td>\n",
       "      <td>0.000000</td>\n",
       "    </tr>\n",
       "    <tr>\n",
       "      <th>4</th>\n",
       "      <td>Internal traffic</td>\n",
       "      <td>2.0</td>\n",
       "      <td>0.0</td>\n",
       "      <td>0.000000</td>\n",
       "    </tr>\n",
       "  </tbody>\n",
       "</table>\n",
       "</div>"
      ],
      "text/plain": [
       "                   Source  Visits  Conversions  Last click CR%\n",
       "0   Search engine traffic   317.0         10.0        0.031546\n",
       "1          Direct traffic   144.0          6.0        0.041667\n",
       "2            Link traffic    15.0          1.0        0.066667\n",
       "3  Social network traffic    10.0          0.0        0.000000\n",
       "4        Internal traffic     2.0          0.0        0.000000"
      ]
     },
     "metadata": {},
     "output_type": "display_data"
    }
   ],
   "source": [
    "params2 = {'metrics': 'ym:s:visits,ym:s:goal137595631reaches',\n",
    "          'dimensions': 'ym:s:lastTrafficSource', # атрибуция по последнему источнику; для задания 47.6.2\n",
    "          'date1': '2020-10-07',  \n",
    "          'date2': '2020-10-09',     \n",
    "          'ids': 30177909,\n",
    "          'accuracy':'full',\n",
    "          'limit':100000}\n",
    "response2 = requests.get('https://api-metrika.yandex.net/stat/v1/data', params=params2, headers=headers)\n",
    "metrika_data_2 = response2.json()\n",
    "\n",
    "def getMetrikaDataInListOfDicts(metrika_data_2):\n",
    "    list_of_dicts = []\n",
    "    dimensions_list = metrika_data_2['query']['dimensions']\n",
    "    metrics_list = metrika_data_2['query']['metrics']\n",
    "    for data_item in metrika_data_2['data']:\n",
    "        d = {}\n",
    "        for i,dimension in enumerate(data_item['dimensions']):\n",
    "            d[dimensions_list[i]] = dimension['name']\n",
    "        for i,metric in enumerate(data_item['metrics']):\n",
    "            d[metrics_list[i]] = metric\n",
    "        list_of_dicts.append(d)\n",
    "    return list_of_dicts\n",
    "metrika_list_of_dicts = getMetrikaDataInListOfDicts(metrika_data_2)\n",
    "metrika_df2 = pd.DataFrame(metrika_list_of_dicts)\n",
    "metrika_df2.columns=['Source','Visits','Conversions']\n",
    "metrika_df2['Last click CR%'] = metrika_df2['Conversions']/metrika_df2['Visits']\n",
    "display(metrika_df2.head(10))"
   ]
  },
  {
   "cell_type": "code",
   "execution_count": 61,
   "metadata": {},
   "outputs": [
    {
     "data": {
      "text/html": [
       "<div>\n",
       "<style scoped>\n",
       "    .dataframe tbody tr th:only-of-type {\n",
       "        vertical-align: middle;\n",
       "    }\n",
       "\n",
       "    .dataframe tbody tr th {\n",
       "        vertical-align: top;\n",
       "    }\n",
       "\n",
       "    .dataframe thead th {\n",
       "        text-align: right;\n",
       "    }\n",
       "</style>\n",
       "<table border=\"1\" class=\"dataframe\">\n",
       "  <thead>\n",
       "    <tr style=\"text-align: right;\">\n",
       "      <th></th>\n",
       "      <th>Source</th>\n",
       "      <th>Last non-direct CR%</th>\n",
       "      <th>Last click CR%</th>\n",
       "      <th>Last click to Last non-direct Difference</th>\n",
       "    </tr>\n",
       "  </thead>\n",
       "  <tbody>\n",
       "    <tr>\n",
       "      <th>0</th>\n",
       "      <td>Search engine traffic</td>\n",
       "      <td>0.028986</td>\n",
       "      <td>0.031546</td>\n",
       "      <td>0.088328</td>\n",
       "    </tr>\n",
       "    <tr>\n",
       "      <th>1</th>\n",
       "      <td>Direct traffic</td>\n",
       "      <td>0.044248</td>\n",
       "      <td>0.041667</td>\n",
       "      <td>-0.058333</td>\n",
       "    </tr>\n",
       "    <tr>\n",
       "      <th>2</th>\n",
       "      <td>Link traffic</td>\n",
       "      <td>0.062500</td>\n",
       "      <td>0.066667</td>\n",
       "      <td>0.066667</td>\n",
       "    </tr>\n",
       "    <tr>\n",
       "      <th>3</th>\n",
       "      <td>Social network traffic</td>\n",
       "      <td>0.083333</td>\n",
       "      <td>0.000000</td>\n",
       "      <td>-1.000000</td>\n",
       "    </tr>\n",
       "    <tr>\n",
       "      <th>4</th>\n",
       "      <td>Internal traffic</td>\n",
       "      <td>0.000000</td>\n",
       "      <td>0.000000</td>\n",
       "      <td>NaN</td>\n",
       "    </tr>\n",
       "  </tbody>\n",
       "</table>\n",
       "</div>"
      ],
      "text/plain": [
       "                   Source  Last non-direct CR%  Last click CR%  \\\n",
       "0   Search engine traffic             0.028986        0.031546   \n",
       "1          Direct traffic             0.044248        0.041667   \n",
       "2            Link traffic             0.062500        0.066667   \n",
       "3  Social network traffic             0.083333        0.000000   \n",
       "4        Internal traffic             0.000000        0.000000   \n",
       "\n",
       "   Last click to Last non-direct Difference  \n",
       "0                                  0.088328  \n",
       "1                                 -0.058333  \n",
       "2                                  0.066667  \n",
       "3                                 -1.000000  \n",
       "4                                       NaN  "
      ]
     },
     "execution_count": 61,
     "metadata": {},
     "output_type": "execute_result"
    }
   ],
   "source": [
    "# Задание 47.6.4 К какому каналу была отнесена конверсия из источника Direct в модели Last non-direct?\n",
    "df1 = metrika_df.loc[:,['Source','Last non-direct CR%']]\n",
    "df2 = metrika_df2.loc[:,['Source','Last click CR%']]\n",
    "attribution_compare_df = df1.merge(df2, on='Source')\n",
    "attribution_compare_df['Last click to Last non-direct Difference'] = attribution_compare_df['Last click CR%']/attribution_compare_df['Last non-direct CR%'] -1\n",
    "attribution_compare_df"
   ]
  },
  {
   "cell_type": "markdown",
   "metadata": {},
   "source": [
    "ответ 47.6.4 Social network traffic , т.к. разница - 1"
   ]
  }
 ],
 "metadata": {
  "interpreter": {
   "hash": "669f045e892559aba9dcb5528f49294207e25a0531cd24cc392f4c78fcb2fc9f"
  },
  "kernelspec": {
   "display_name": "Python 3.10.1 64-bit",
   "language": "python",
   "name": "python3"
  },
  "language_info": {
   "codemirror_mode": {
    "name": "ipython",
    "version": 3
   },
   "file_extension": ".py",
   "mimetype": "text/x-python",
   "name": "python",
   "nbconvert_exporter": "python",
   "pygments_lexer": "ipython3",
   "version": "3.10.1"
  },
  "orig_nbformat": 4
 },
 "nbformat": 4,
 "nbformat_minor": 2
}
